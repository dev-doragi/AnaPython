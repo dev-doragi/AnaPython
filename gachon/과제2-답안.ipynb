{
 "cells": [
  {
   "cell_type": "markdown",
   "metadata": {},
   "source": [
    "# 기술통계학 "
   ]
  },
  {
   "cell_type": "markdown",
   "metadata": {},
   "source": [
    "# Chapter 3 자료의 정리 심화문제"
   ]
  },
  {
   "cell_type": "code",
   "execution_count": 85,
   "metadata": {},
   "outputs": [],
   "source": [
    "import pandas as pd\n",
    "import numpy as np\n",
    "import matplotlib \n",
    "import matplotlib.pyplot as plt\n",
    "# 한글출력 설정\n",
    "matplotlib.rcParams['font.family'] = 'Malgun Gothic'# '맑은 고딕'으로 설정 "
   ]
  },
  {
   "cell_type": "markdown",
   "metadata": {},
   "source": [
    "---"
   ]
  },
  {
   "cell_type": "markdown",
   "metadata": {},
   "source": [
    "## 27. 통계청 년도별 출생아 수 자료 정리하기"
   ]
  },
  {
   "cell_type": "markdown",
   "metadata": {},
   "source": [
    "### Q. 2004년~2012년(9년) 동안의 출생아 수와 여자아이 100명당 남자아이의 비율 표로 나타내기"
   ]
  },
  {
   "cell_type": "code",
   "execution_count": 88,
   "metadata": {
    "scrolled": true
   },
   "outputs": [
    {
     "data": {
      "text/html": [
       "<div>\n",
       "<style scoped>\n",
       "    .dataframe tbody tr th:only-of-type {\n",
       "        vertical-align: middle;\n",
       "    }\n",
       "\n",
       "    .dataframe tbody tr th {\n",
       "        vertical-align: top;\n",
       "    }\n",
       "\n",
       "    .dataframe thead th {\n",
       "        text-align: right;\n",
       "    }\n",
       "</style>\n",
       "<table border=\"1\" class=\"dataframe\">\n",
       "  <thead>\n",
       "    <tr style=\"text-align: right;\">\n",
       "      <th></th>\n",
       "      <th>2004</th>\n",
       "      <th>2005</th>\n",
       "      <th>2006</th>\n",
       "      <th>2007</th>\n",
       "      <th>2008</th>\n",
       "      <th>2009</th>\n",
       "      <th>2010</th>\n",
       "      <th>2011</th>\n",
       "      <th>2012</th>\n",
       "    </tr>\n",
       "  </thead>\n",
       "  <tbody>\n",
       "    <tr>\n",
       "      <th>출생아수</th>\n",
       "      <td>472761.0</td>\n",
       "      <td>435031.0</td>\n",
       "      <td>448153.0</td>\n",
       "      <td>493183.0</td>\n",
       "      <td>465891.0</td>\n",
       "      <td>444849.0</td>\n",
       "      <td>470171.0</td>\n",
       "      <td>471265.0</td>\n",
       "      <td>484550.0</td>\n",
       "    </tr>\n",
       "    <tr>\n",
       "      <th>출생성비</th>\n",
       "      <td>108.2</td>\n",
       "      <td>107.8</td>\n",
       "      <td>107.5</td>\n",
       "      <td>106.2</td>\n",
       "      <td>106.4</td>\n",
       "      <td>106.4</td>\n",
       "      <td>106.9</td>\n",
       "      <td>105.7</td>\n",
       "      <td>105.7</td>\n",
       "    </tr>\n",
       "  </tbody>\n",
       "</table>\n",
       "</div>"
      ],
      "text/plain": [
       "          2004      2005      2006      2007      2008      2009      2010  \\\n",
       "출생아수  472761.0  435031.0  448153.0  493183.0  465891.0  444849.0  470171.0   \n",
       "출생성비     108.2     107.8     107.5     106.2     106.4     106.4     106.9   \n",
       "\n",
       "          2011      2012  \n",
       "출생아수  471265.0  484550.0  \n",
       "출생성비     105.7     105.7  "
      ]
     },
     "execution_count": 88,
     "metadata": {},
     "output_type": "execute_result"
    }
   ],
   "source": [
    "datas = {2004:[472761,108.2], 2005:[435031,107.8], 2006:[448153,107.5], \n",
    "         2007:[493183,106.2], 2008:[465891,106.4], 2009:[444849,106.4],\n",
    "         2010:[470171,106.9], 2011:[471265,105.7], 2012:[484550,105.7]}\n",
    "\n",
    "df = pd.DataFrame(datas, index=['출생아수', '출생성비'])\n",
    "df"
   ]
  },
  {
   "cell_type": "markdown",
   "metadata": {},
   "source": [
    "#### (a) 년도별 출생아 수 막대그래프 "
   ]
  },
  {
   "cell_type": "code",
   "execution_count": 89,
   "metadata": {},
   "outputs": [
    {
     "data": {
      "image/png": "[encoded data removed]",
      "text/plain": [
       "<Figure size 432x288 with 1 Axes>"
      ]
     },
     "metadata": {
      "needs_background": "light"
     },
     "output_type": "display_data"
    }
   ],
   "source": [
    "x = df.columns\n",
    "y = df.loc['출생아수',:].values\n",
    "\n",
    "colors = ['r','g','b','c','m','y','k']\n",
    "\n",
    "plt.bar(x, y, color=colors)\n",
    "plt.title('연도별 출생아 수의 비교')\n",
    "plt.xlabel('연도')\n",
    "plt.ylabel('출생아수')\n",
    "plt.xticks(x)  #x축 레이블 출력        \n",
    "plt.show()"
   ]
  },
  {
   "cell_type": "markdown",
   "metadata": {},
   "source": [
    "#### (b) 여아, 남아 출생아수 구분하여 꺾은선 그래프 나타내기"
   ]
  },
  {
   "cell_type": "markdown",
   "metadata": {},
   "source": [
    "#### 여아, 남아 출생아수"
   ]
  },
  {
   "cell_type": "code",
   "execution_count": 15,
   "metadata": {},
   "outputs": [
    {
     "data": {
      "text/html": [
       "<div>\n",
       "<style scoped>\n",
       "    .dataframe tbody tr th:only-of-type {\n",
       "        vertical-align: middle;\n",
       "    }\n",
       "\n",
       "    .dataframe tbody tr th {\n",
       "        vertical-align: top;\n",
       "    }\n",
       "\n",
       "    .dataframe thead th {\n",
       "        text-align: right;\n",
       "    }\n",
       "</style>\n",
       "<table border=\"1\" class=\"dataframe\">\n",
       "  <thead>\n",
       "    <tr style=\"text-align: right;\">\n",
       "      <th></th>\n",
       "      <th>2004</th>\n",
       "      <th>2005</th>\n",
       "      <th>2006</th>\n",
       "      <th>2007</th>\n",
       "      <th>2008</th>\n",
       "      <th>2009</th>\n",
       "      <th>2010</th>\n",
       "      <th>2011</th>\n",
       "      <th>2012</th>\n",
       "    </tr>\n",
       "  </thead>\n",
       "  <tbody>\n",
       "    <tr>\n",
       "      <th>출생아수</th>\n",
       "      <td>472761.0</td>\n",
       "      <td>435031.0</td>\n",
       "      <td>448153.0</td>\n",
       "      <td>493183.0</td>\n",
       "      <td>465891.0</td>\n",
       "      <td>444849.0</td>\n",
       "      <td>470171.0</td>\n",
       "      <td>471265.0</td>\n",
       "      <td>484550.0</td>\n",
       "    </tr>\n",
       "    <tr>\n",
       "      <th>출생성비</th>\n",
       "      <td>108.2</td>\n",
       "      <td>107.8</td>\n",
       "      <td>107.5</td>\n",
       "      <td>106.2</td>\n",
       "      <td>106.4</td>\n",
       "      <td>106.4</td>\n",
       "      <td>106.9</td>\n",
       "      <td>105.7</td>\n",
       "      <td>105.7</td>\n",
       "    </tr>\n",
       "    <tr>\n",
       "      <th>여아</th>\n",
       "      <td>227071.0</td>\n",
       "      <td>209351.0</td>\n",
       "      <td>215977.0</td>\n",
       "      <td>239177.0</td>\n",
       "      <td>225722.0</td>\n",
       "      <td>215528.0</td>\n",
       "      <td>227246.0</td>\n",
       "      <td>229103.0</td>\n",
       "      <td>235561.0</td>\n",
       "    </tr>\n",
       "    <tr>\n",
       "      <th>남아</th>\n",
       "      <td>245690.0</td>\n",
       "      <td>225680.0</td>\n",
       "      <td>232176.0</td>\n",
       "      <td>254006.0</td>\n",
       "      <td>240169.0</td>\n",
       "      <td>229321.0</td>\n",
       "      <td>242925.0</td>\n",
       "      <td>242162.0</td>\n",
       "      <td>248989.0</td>\n",
       "    </tr>\n",
       "  </tbody>\n",
       "</table>\n",
       "</div>"
      ],
      "text/plain": [
       "          2004      2005      2006      2007      2008      2009      2010  \\\n",
       "출생아수  472761.0  435031.0  448153.0  493183.0  465891.0  444849.0  470171.0   \n",
       "출생성비     108.2     107.8     107.5     106.2     106.4     106.4     106.9   \n",
       "여아    227071.0  209351.0  215977.0  239177.0  225722.0  215528.0  227246.0   \n",
       "남아    245690.0  225680.0  232176.0  254006.0  240169.0  229321.0  242925.0   \n",
       "\n",
       "          2011      2012  \n",
       "출생아수  471265.0  484550.0  \n",
       "출생성비     105.7     105.7  \n",
       "여아    229103.0  235561.0  \n",
       "남아    242162.0  248989.0  "
      ]
     },
     "execution_count": 15,
     "metadata": {},
     "output_type": "execute_result"
    }
   ],
   "source": [
    "total = df.loc['출생아수',:].values  # 출생아수 행 전체 = df.iloc[0]\n",
    "rate  = df.loc['출생성비',:].values  # 출생성비 행 전체 = = df.iloc[1]\n",
    "\n",
    "#여아 출생아수: 여아(f), 남아(m)\n",
    "# f + m = total, f : m = 100 : rate \n",
    "# f = 100 * total / (100 + rate)\n",
    "# m = total - f\n",
    "f = [round(100*total[idx]/(100+rate[idx])) for idx, i in enumerate(total)]\n",
    "m = [i - f[idx] for idx, i in enumerate(total)]\n",
    "df.loc['여아',:] = f\n",
    "df.loc['남아',:] = m\n",
    "df"
   ]
  },
  {
   "cell_type": "markdown",
   "metadata": {},
   "source": [
    "#### 여아, 남아 출생아수 꺽은선 그래프"
   ]
  },
  {
   "cell_type": "code",
   "execution_count": 16,
   "metadata": {
    "scrolled": true
   },
   "outputs": [
    {
     "data": {
      "image/png": "[encoded data removed]",
      "text/plain": [
       "<Figure size 432x288 with 1 Axes>"
      ]
     },
     "metadata": {
      "needs_background": "light"
     },
     "output_type": "display_data"
    }
   ],
   "source": [
    "plt.plot(x, f, 'o', linestyle='-', color='r')\n",
    "plt.plot(x, m, 'o', linestyle='-', color='b')\n",
    "plt.title('연도별 여아수와 남아수의 비교')\n",
    "plt.xlabel('연도')\n",
    "plt.ylabel('출생아수')\n",
    "plt.xticks(x)  #x축 레이블 출력     \n",
    "plt.legend(['여아','남아'])\n",
    "plt.show()"
   ]
  },
  {
   "cell_type": "markdown",
   "metadata": {},
   "source": [
    "#### DataFrame 행, 열 바꾸기"
   ]
  },
  {
   "cell_type": "code",
   "execution_count": 17,
   "metadata": {},
   "outputs": [
    {
     "data": {
      "text/html": [
       "<div>\n",
       "<style scoped>\n",
       "    .dataframe tbody tr th:only-of-type {\n",
       "        vertical-align: middle;\n",
       "    }\n",
       "\n",
       "    .dataframe tbody tr th {\n",
       "        vertical-align: top;\n",
       "    }\n",
       "\n",
       "    .dataframe thead th {\n",
       "        text-align: right;\n",
       "    }\n",
       "</style>\n",
       "<table border=\"1\" class=\"dataframe\">\n",
       "  <thead>\n",
       "    <tr style=\"text-align: right;\">\n",
       "      <th></th>\n",
       "      <th>출생아수</th>\n",
       "      <th>출생성비</th>\n",
       "      <th>여아</th>\n",
       "      <th>남아</th>\n",
       "    </tr>\n",
       "  </thead>\n",
       "  <tbody>\n",
       "    <tr>\n",
       "      <th>2004</th>\n",
       "      <td>472761.0</td>\n",
       "      <td>108.2</td>\n",
       "      <td>227071.0</td>\n",
       "      <td>245690.0</td>\n",
       "    </tr>\n",
       "    <tr>\n",
       "      <th>2005</th>\n",
       "      <td>435031.0</td>\n",
       "      <td>107.8</td>\n",
       "      <td>209351.0</td>\n",
       "      <td>225680.0</td>\n",
       "    </tr>\n",
       "    <tr>\n",
       "      <th>2006</th>\n",
       "      <td>448153.0</td>\n",
       "      <td>107.5</td>\n",
       "      <td>215977.0</td>\n",
       "      <td>232176.0</td>\n",
       "    </tr>\n",
       "    <tr>\n",
       "      <th>2007</th>\n",
       "      <td>493183.0</td>\n",
       "      <td>106.2</td>\n",
       "      <td>239177.0</td>\n",
       "      <td>254006.0</td>\n",
       "    </tr>\n",
       "    <tr>\n",
       "      <th>2008</th>\n",
       "      <td>465891.0</td>\n",
       "      <td>106.4</td>\n",
       "      <td>225722.0</td>\n",
       "      <td>240169.0</td>\n",
       "    </tr>\n",
       "    <tr>\n",
       "      <th>2009</th>\n",
       "      <td>444849.0</td>\n",
       "      <td>106.4</td>\n",
       "      <td>215528.0</td>\n",
       "      <td>229321.0</td>\n",
       "    </tr>\n",
       "    <tr>\n",
       "      <th>2010</th>\n",
       "      <td>470171.0</td>\n",
       "      <td>106.9</td>\n",
       "      <td>227246.0</td>\n",
       "      <td>242925.0</td>\n",
       "    </tr>\n",
       "    <tr>\n",
       "      <th>2011</th>\n",
       "      <td>471265.0</td>\n",
       "      <td>105.7</td>\n",
       "      <td>229103.0</td>\n",
       "      <td>242162.0</td>\n",
       "    </tr>\n",
       "    <tr>\n",
       "      <th>2012</th>\n",
       "      <td>484550.0</td>\n",
       "      <td>105.7</td>\n",
       "      <td>235561.0</td>\n",
       "      <td>248989.0</td>\n",
       "    </tr>\n",
       "  </tbody>\n",
       "</table>\n",
       "</div>"
      ],
      "text/plain": [
       "          출생아수   출생성비        여아        남아\n",
       "2004  472761.0  108.2  227071.0  245690.0\n",
       "2005  435031.0  107.8  209351.0  225680.0\n",
       "2006  448153.0  107.5  215977.0  232176.0\n",
       "2007  493183.0  106.2  239177.0  254006.0\n",
       "2008  465891.0  106.4  225722.0  240169.0\n",
       "2009  444849.0  106.4  215528.0  229321.0\n",
       "2010  470171.0  106.9  227246.0  242925.0\n",
       "2011  471265.0  105.7  229103.0  242162.0\n",
       "2012  484550.0  105.7  235561.0  248989.0"
      ]
     },
     "execution_count": 17,
     "metadata": {},
     "output_type": "execute_result"
    }
   ],
   "source": [
    "df = df.transpose()  # 행, 열 변환\n",
    "df"
   ]
  },
  {
   "cell_type": "markdown",
   "metadata": {},
   "source": [
    "---"
   ]
  },
  {
   "cell_type": "markdown",
   "metadata": {},
   "source": [
    "## 28. 500개 측정값 조사 결과 자료 정리하기"
   ]
  },
  {
   "cell_type": "markdown",
   "metadata": {},
   "source": [
    "### Q. 500개 측정값 조사 결과에 대한 도수분포표와 그래프 완성하기"
   ]
  },
  {
   "cell_type": "markdown",
   "metadata": {},
   "source": [
    "#### (a). 도수분포표 완성"
   ]
  },
  {
   "cell_type": "code",
   "execution_count": 92,
   "metadata": {},
   "outputs": [
    {
     "name": "stdout",
     "output_type": "stream",
     "text": [
      "[0.5, 4.5, 8.5, 12.5, 16.5, 20.5, 24.5, 28.5]\n"
     ]
    },
    {
     "data": {
      "text/html": [
       "<div>\n",
       "<style scoped>\n",
       "    .dataframe tbody tr th:only-of-type {\n",
       "        vertical-align: middle;\n",
       "    }\n",
       "\n",
       "    .dataframe tbody tr th {\n",
       "        vertical-align: top;\n",
       "    }\n",
       "\n",
       "    .dataframe thead th {\n",
       "        text-align: right;\n",
       "    }\n",
       "</style>\n",
       "<table border=\"1\" class=\"dataframe\">\n",
       "  <thead>\n",
       "    <tr style=\"text-align: right;\">\n",
       "      <th></th>\n",
       "      <th>도수</th>\n",
       "      <th>상대도수</th>\n",
       "      <th>누적도수</th>\n",
       "      <th>누적상대도수</th>\n",
       "      <th>계급값</th>\n",
       "    </tr>\n",
       "    <tr>\n",
       "      <th>계급간격</th>\n",
       "      <th></th>\n",
       "      <th></th>\n",
       "      <th></th>\n",
       "      <th></th>\n",
       "      <th></th>\n",
       "    </tr>\n",
       "  </thead>\n",
       "  <tbody>\n",
       "    <tr>\n",
       "      <th>0.5 ~ 4.5</th>\n",
       "      <td>25</td>\n",
       "      <td>0.05</td>\n",
       "      <td>25</td>\n",
       "      <td>0.05</td>\n",
       "      <td>2.5</td>\n",
       "    </tr>\n",
       "    <tr>\n",
       "      <th>4.5 ~ 8.5</th>\n",
       "      <td>55</td>\n",
       "      <td>0.11</td>\n",
       "      <td>80</td>\n",
       "      <td>0.16</td>\n",
       "      <td>6.5</td>\n",
       "    </tr>\n",
       "    <tr>\n",
       "      <th>8.5 ~ 12.5</th>\n",
       "      <td>60</td>\n",
       "      <td>0.12</td>\n",
       "      <td>140</td>\n",
       "      <td>0.28</td>\n",
       "      <td>10.5</td>\n",
       "    </tr>\n",
       "    <tr>\n",
       "      <th>12.5 ~ 16.5</th>\n",
       "      <td>90</td>\n",
       "      <td>0.18</td>\n",
       "      <td>230</td>\n",
       "      <td>0.46</td>\n",
       "      <td>14.5</td>\n",
       "    </tr>\n",
       "    <tr>\n",
       "      <th>16.5 ~ 20.5</th>\n",
       "      <td>115</td>\n",
       "      <td>0.23</td>\n",
       "      <td>345</td>\n",
       "      <td>0.69</td>\n",
       "      <td>18.5</td>\n",
       "    </tr>\n",
       "    <tr>\n",
       "      <th>20.5 ~ 24.5</th>\n",
       "      <td>85</td>\n",
       "      <td>0.17</td>\n",
       "      <td>430</td>\n",
       "      <td>0.86</td>\n",
       "      <td>22.5</td>\n",
       "    </tr>\n",
       "    <tr>\n",
       "      <th>24.5 ~ 28.5</th>\n",
       "      <td>50</td>\n",
       "      <td>0.10</td>\n",
       "      <td>480</td>\n",
       "      <td>0.96</td>\n",
       "      <td>26.5</td>\n",
       "    </tr>\n",
       "    <tr>\n",
       "      <th>28.5 ~ 32.5</th>\n",
       "      <td>20</td>\n",
       "      <td>0.04</td>\n",
       "      <td>500</td>\n",
       "      <td>1</td>\n",
       "      <td>30.5</td>\n",
       "    </tr>\n",
       "    <tr>\n",
       "      <th>합계</th>\n",
       "      <td>500</td>\n",
       "      <td>1.00</td>\n",
       "      <td></td>\n",
       "      <td></td>\n",
       "      <td></td>\n",
       "    </tr>\n",
       "  </tbody>\n",
       "</table>\n",
       "</div>"
      ],
      "text/plain": [
       "              도수  상대도수 누적도수 누적상대도수   계급값\n",
       "계급간격                                    \n",
       "0.5 ~ 4.5     25  0.05   25   0.05   2.5\n",
       "4.5 ~ 8.5     55  0.11   80   0.16   6.5\n",
       "8.5 ~ 12.5    60  0.12  140   0.28  10.5\n",
       "12.5 ~ 16.5   90  0.18  230   0.46  14.5\n",
       "16.5 ~ 20.5  115  0.23  345   0.69  18.5\n",
       "20.5 ~ 24.5   85  0.17  430   0.86  22.5\n",
       "24.5 ~ 28.5   50  0.10  480   0.96  26.5\n",
       "28.5 ~ 32.5   20  0.04  500      1  30.5\n",
       "합계           500  1.00                  "
      ]
     },
     "execution_count": 92,
     "metadata": {},
     "output_type": "execute_result"
    }
   ],
   "source": [
    "k = 8        # 계급수\n",
    "start = 0.5  #계급 시작값\n",
    "step  = 4    #계급 간격\n",
    "bins = [ start +i*step for i in range(k)]  # np.arange(start, 32, step=step)  #계급\n",
    "print(bins)\n",
    "\n",
    "#계급간격\n",
    "index = [ str(bins[i])+' ~ '+str( bins[i+1] if i<(k-1) else bins[i]+step ) \n",
    "           for i in range(k)]  \n",
    "#도수\n",
    "datas = [25,55,60,90,115,85,50,20]\n",
    "\n",
    "# 도수분포표 만들기\n",
    "df = pd.DataFrame(datas, index=index, columns=['도수'])\n",
    "df.index.name = '계급간격'\n",
    "\n",
    "#,'상대도수','누적도수','누적상대도수','계급값']\n",
    "df['상대도수'] = [datas[x]/sum(datas) for x in range(k)]\n",
    "df['누적도수'] = [sum([datas[i] for i in range(x+1)]) for x in range(k)]\n",
    "val2 = df['상대도수'].values\n",
    "df['누적상대도수'] = [sum([val2[i] for i in range(x+1)]) for x in range(k)]\n",
    "df['계급값'] = [( bins[i]+( bins[i+1] if i<(k-1) else bins[i]+step ))/2 \n",
    "                                 for i in range(k)]  \n",
    "\n",
    "#df.loc['합계'] = df.iloc[:,:2].sum(axis=0, skipna=True)\n",
    "df.loc['합계'] = [sum(datas),sum(val2),'','','']\n",
    "df\n"
   ]
  },
  {
   "cell_type": "markdown",
   "metadata": {},
   "source": [
    "#### (b). 도수히스토그램과 누적상대도수히스토그램 그리기"
   ]
  },
  {
   "cell_type": "code",
   "execution_count": 19,
   "metadata": {},
   "outputs": [
    {
     "data": {
      "image/png": "[encoded data removed]",
      "text/plain": [
       "<Figure size 432x288 with 1 Axes>"
      ]
     },
     "metadata": {
      "needs_background": "light"
     },
     "output_type": "display_data"
    }
   ],
   "source": [
    "# 도수히스토그램\n",
    "x = df['계급값'].values[:k]\n",
    "y = df['도수'].values[:k]\n",
    "\n",
    "plt.bar(x,y, width=4)\n",
    "plt.title('도수 히스토그램')\n",
    "plt.ylabel('도수')\n",
    "plt.xticks(ticks=x, labels=x)\n",
    "plt.grid()\n",
    "plt.show()"
   ]
  },
  {
   "cell_type": "code",
   "execution_count": 20,
   "metadata": {},
   "outputs": [
    {
     "data": {
      "image/png": "[encoded data removed]",
      "text/plain": [
       "<Figure size 432x288 with 1 Axes>"
      ]
     },
     "metadata": {
      "needs_background": "light"
     },
     "output_type": "display_data"
    }
   ],
   "source": [
    "# 누적상대도수히스토그램\n",
    "x = df['계급값'].values[:k]\n",
    "y = df['누적상대도수'].values[:k]\n",
    "\n",
    "plt.bar(x,y, width=4)\n",
    "plt.title('누적상대도수 히스토그램')\n",
    "plt.ylabel('누적상대도수')\n",
    "plt.xticks(ticks=x, labels=x)\n",
    "plt.grid()\n",
    "plt.show()"
   ]
  },
  {
   "cell_type": "markdown",
   "metadata": {},
   "source": [
    "#### (c) 누적상대도수다각형 그리기"
   ]
  },
  {
   "cell_type": "code",
   "execution_count": 21,
   "metadata": {},
   "outputs": [
    {
     "data": {
      "image/png": "[encoded data removed]",
      "text/plain": [
       "<Figure size 432x288 with 1 Axes>"
      ]
     },
     "metadata": {
      "needs_background": "light"
     },
     "output_type": "display_data"
    }
   ],
   "source": [
    "# 도수히스토그램\n",
    "x = df['계급값'].values[:k]\n",
    "y = df['누적상대도수'].values[:k]\n",
    "\n",
    "plt.plot(x,y, 'o',linestyle='-', color='b')\n",
    "plt.title('누적상대도수 다각형')\n",
    "plt.ylabel('누적상대도수')\n",
    "plt.xticks(ticks=x, labels=x)\n",
    "plt.grid()\n",
    "plt.show()"
   ]
  },
  {
   "cell_type": "markdown",
   "metadata": {},
   "source": [
    "---"
   ]
  },
  {
   "cell_type": "markdown",
   "metadata": {},
   "source": [
    "## 29. 통계청 연도별 우리나라 남자와 여자의 기대수명 예측"
   ]
  },
  {
   "cell_type": "markdown",
   "metadata": {},
   "source": [
    "### Q. 우리나라 남자와 여자의 기대수명 그래프와 기대수명 예측하기"
   ]
  },
  {
   "cell_type": "markdown",
   "metadata": {},
   "source": [
    "#### 데이터 표로 나타내기"
   ]
  },
  {
   "cell_type": "code",
   "execution_count": 23,
   "metadata": {},
   "outputs": [
    {
     "data": {
      "text/html": [
       "<div>\n",
       "<style scoped>\n",
       "    .dataframe tbody tr th:only-of-type {\n",
       "        vertical-align: middle;\n",
       "    }\n",
       "\n",
       "    .dataframe tbody tr th {\n",
       "        vertical-align: top;\n",
       "    }\n",
       "\n",
       "    .dataframe thead th {\n",
       "        text-align: right;\n",
       "    }\n",
       "</style>\n",
       "<table border=\"1\" class=\"dataframe\">\n",
       "  <thead>\n",
       "    <tr style=\"text-align: right;\">\n",
       "      <th>연도</th>\n",
       "      <th>2003</th>\n",
       "      <th>2004</th>\n",
       "      <th>2005</th>\n",
       "      <th>2006</th>\n",
       "      <th>2007</th>\n",
       "      <th>2008</th>\n",
       "      <th>2009</th>\n",
       "      <th>2010</th>\n",
       "      <th>2011</th>\n",
       "      <th>2012</th>\n",
       "    </tr>\n",
       "  </thead>\n",
       "  <tbody>\n",
       "    <tr>\n",
       "      <th>기대수명</th>\n",
       "      <td>77.4</td>\n",
       "      <td>78.0</td>\n",
       "      <td>78.6</td>\n",
       "      <td>79.2</td>\n",
       "      <td>79.6</td>\n",
       "      <td>80.1</td>\n",
       "      <td>80.6</td>\n",
       "      <td>80.8</td>\n",
       "      <td>81.2</td>\n",
       "      <td>81.4</td>\n",
       "    </tr>\n",
       "    <tr>\n",
       "      <th>남자</th>\n",
       "      <td>73.9</td>\n",
       "      <td>74.5</td>\n",
       "      <td>75.1</td>\n",
       "      <td>75.7</td>\n",
       "      <td>76.1</td>\n",
       "      <td>76.5</td>\n",
       "      <td>77.0</td>\n",
       "      <td>77.2</td>\n",
       "      <td>77.7</td>\n",
       "      <td>78.0</td>\n",
       "    </tr>\n",
       "    <tr>\n",
       "      <th>여자</th>\n",
       "      <td>80.8</td>\n",
       "      <td>81.4</td>\n",
       "      <td>81.9</td>\n",
       "      <td>82.4</td>\n",
       "      <td>82.7</td>\n",
       "      <td>83.3</td>\n",
       "      <td>83.8</td>\n",
       "      <td>84.1</td>\n",
       "      <td>84.5</td>\n",
       "      <td>84.6</td>\n",
       "    </tr>\n",
       "  </tbody>\n",
       "</table>\n",
       "</div>"
      ],
      "text/plain": [
       "연도    2003  2004  2005  2006  2007  2008  2009  2010  2011  2012\n",
       "기대수명  77.4  78.0  78.6  79.2  79.6  80.1  80.6  80.8  81.2  81.4\n",
       "남자    73.9  74.5  75.1  75.7  76.1  76.5  77.0  77.2  77.7  78.0\n",
       "여자    80.8  81.4  81.9  82.4  82.7  83.3  83.8  84.1  84.5  84.6"
      ]
     },
     "execution_count": 23,
     "metadata": {},
     "output_type": "execute_result"
    }
   ],
   "source": [
    "df = pd.read_csv('data/data_29.csv', engine='python')\n",
    "df.index = ['기대수명','남자','여자']\n",
    "df.columns.name = '연도'\n",
    "df"
   ]
  },
  {
   "cell_type": "markdown",
   "metadata": {},
   "source": [
    "#### (a). 남자와 여자의 기대수명 꺽은선 그래프"
   ]
  },
  {
   "cell_type": "code",
   "execution_count": 31,
   "metadata": {},
   "outputs": [
    {
     "name": "stdout",
     "output_type": "stream",
     "text": [
      "['2003', '2004', '2005', '2006', '2007', '2008', '2009', '2010', '2011', '2012']\n"
     ]
    },
    {
     "data": {
      "image/png": "[encoded data removed]",
      "text/plain": [
       "<Figure size 432x288 with 1 Axes>"
      ]
     },
     "metadata": {
      "needs_background": "light"
     },
     "output_type": "display_data"
    }
   ],
   "source": [
    "x = df.columns\n",
    "print(list(x))\n",
    "t = df.loc['기대수명', :]   # df.iloc[0]\n",
    "m =  df.iloc[1]  # df.loc['남자', :] \n",
    "f =  df.iloc[2]  # df.loc['여자', :] \n",
    "\n",
    "plt.plot(x, t, 'v', linestyle='-', color='g', label=t)\n",
    "plt.plot(x, f, 'o', linestyle='-', color='r')\n",
    "plt.plot(x, m, 'o', linestyle='-', color='b')\n",
    "\n",
    "plt.title('연도별 남자와 여자 평균수명')\n",
    "plt.xlabel('연도')\n",
    "plt.ylabel('수명')\n",
    "plt.xticks(x)  #x축 레이블 출력     \n",
    "plt.legend(['기대수명','여자','남자'])\n",
    "plt.show()"
   ]
  },
  {
   "cell_type": "markdown",
   "metadata": {},
   "source": [
    "#### (b). 2020년도 남자와 여자 기대수명 예측"
   ]
  },
  {
   "cell_type": "code",
   "execution_count": 83,
   "metadata": {},
   "outputs": [
    {
     "name": "stdout",
     "output_type": "stream",
     "text": [
      "2003 73.9 2012 78.0\n",
      "2020년 남자 기대수명:  81.64444444444445\n"
     ]
    }
   ],
   "source": [
    "#print(df['2003'])    # 2003 컬럼의 데이터:\n",
    "#print(df['2003'][1])  # 남자 기대수명\n",
    "\n",
    "\n",
    "# 남자의 기대수명\n",
    "def get_Yvalue(year, sex):\n",
    "    if sex=='남자':\n",
    "        x = df[year][1]\n",
    "    if sex=='여자':\n",
    "        x = df[year][2]\n",
    "    return x\n",
    "\n",
    "def get_expectAge(x1, y1, x2, y2, year): \n",
    "    a, b = 0, 0\n",
    "    a = (float(y2) - float(y1))/(int(x2) -int(x1))  # 기울기\n",
    "    b = float(y2)    \n",
    "    x = int(year) - int(x2)\n",
    "    y = a * x + b  \n",
    " \n",
    "    return y\n",
    "\n",
    "x1 = '2003'\n",
    "y1 = get_Yvalue(x1, '남자')\n",
    "x2 = '2012'\n",
    "y2 = get_Yvalue(x2, '남자')\n",
    "print(x1, y1, x2,  y2)\n",
    "\n",
    "age = get_expectAge(x1, y1, x2, y2, '2020')\n",
    "print('2020년 남자 기대수명: ', age)\n",
    "\n",
    "\n",
    "\n"
   ]
  },
  {
   "cell_type": "code",
   "execution_count": null,
   "metadata": {},
   "outputs": [],
   "source": []
  }
 ],
 "metadata": {
  "kernelspec": {
   "display_name": "Python 3",
   "language": "python",
   "name": "python3"
  },
  "language_info": {
   "codemirror_mode": {
    "name": "ipython",
    "version": 3
   },
   "file_extension": ".py",
   "mimetype": "text/x-python",
   "name": "python",
   "nbconvert_exporter": "python",
   "pygments_lexer": "ipython3",
   "version": "3.8.5"
  }
 },
 "nbformat": 4,
 "nbformat_minor": 4
}

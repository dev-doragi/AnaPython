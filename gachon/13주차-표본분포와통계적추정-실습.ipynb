{
 "cells": [
  {
   "cell_type": "markdown",
   "metadata": {},
   "source": [
    "# Chapter08 표본분포와 통계적 추정"
   ]
  },
  {
   "cell_type": "code",
   "execution_count": 2,
   "metadata": {},
   "outputs": [],
   "source": [
    "import numpy as np\n",
    "import matplotlib.pyplot as plt"
   ]
  },
  {
   "cell_type": "code",
   "execution_count": 3,
   "metadata": {},
   "outputs": [
    {
     "data": {
      "text/plain": [
       "'1.19.2'"
      ]
     },
     "execution_count": 3,
     "metadata": {},
     "output_type": "execute_result"
    }
   ],
   "source": [
    "np.__version__"
   ]
  },
  {
   "cell_type": "markdown",
   "metadata": {},
   "source": [
    "## 0.실습기초"
   ]
  },
  {
   "cell_type": "markdown",
   "metadata": {},
   "source": [
    "### A.시드값 설정: 매번 동일한 난수를 얻기 위해 "
   ]
  },
  {
   "cell_type": "code",
   "execution_count": 4,
   "metadata": {},
   "outputs": [],
   "source": [
    "np.random.seed(0) #동일한 난수 얻기 위해서"
   ]
  },
  {
   "cell_type": "markdown",
   "metadata": {},
   "source": [
    "### B.(난수)표본추출"
   ]
  },
  {
   "cell_type": "code",
   "execution_count": 5,
   "metadata": {},
   "outputs": [
    {
     "data": {
      "text/plain": [
       "0.5488135039273248"
      ]
     },
     "execution_count": 5,
     "metadata": {},
     "output_type": "execute_result"
    }
   ],
   "source": [
    "#random.random(size=None) \n",
    "np.random.random()   #0.0~1.0 사이의 실수 값 1개"
   ]
  },
  {
   "cell_type": "code",
   "execution_count": 6,
   "metadata": {},
   "outputs": [
    {
     "data": {
      "text/plain": [
       "array([0.71518937, 0.60276338, 0.54488318, 0.4236548 , 0.64589411,\n",
       "       0.43758721, 0.891773  , 0.96366276, 0.38344152, 0.79172504])"
      ]
     },
     "execution_count": 6,
     "metadata": {},
     "output_type": "execute_result"
    }
   ],
   "source": [
    "#random.random(size=None)\n",
    "np.random.random(10)  #0.0~1.0 사이의 실수 값 10개 추출"
   ]
  },
  {
   "cell_type": "markdown",
   "metadata": {},
   "source": [
    "#### 실수 표본추출(정규분포:standard normal distribution) "
   ]
  },
  {
   "cell_type": "code",
   "execution_count": 7,
   "metadata": {},
   "outputs": [
    {
     "data": {
      "text/plain": [
       "2.5452007784710537"
      ]
     },
     "execution_count": 7,
     "metadata": {},
     "output_type": "execute_result"
    }
   ],
   "source": [
    "#random.randn(d0, d1, ..., dn)\n",
    "np.random.randn()   #-1.0~1.0사이의 임의의 수 추출"
   ]
  },
  {
   "cell_type": "code",
   "execution_count": 8,
   "metadata": {},
   "outputs": [
    {
     "data": {
      "text/plain": [
       "array([ 1.08081191,  0.48431215,  0.57914048, -0.18158257,  1.41020463,\n",
       "       -0.37447169,  0.27519832, -0.96075461,  0.37692697,  0.03343893])"
      ]
     },
     "execution_count": 8,
     "metadata": {},
     "output_type": "execute_result"
    }
   ],
   "source": [
    "np.random.randn(10)  #-1~1사이의 임의의 수 추출"
   ]
  },
  {
   "cell_type": "code",
   "execution_count": 9,
   "metadata": {
    "scrolled": false
   },
   "outputs": [
    {
     "data": {
      "text/plain": [
       "array([[ 0.68056724, -1.56349669, -0.56669762, -0.24214951],\n",
       "       [ 1.51439128, -0.3330574 ,  0.04736482,  1.46274045]])"
      ]
     },
     "execution_count": 9,
     "metadata": {},
     "output_type": "execute_result"
    }
   ],
   "source": [
    "np.random.randn(2, 4) #-1~1사이의 임의의 수를 2행 4열 형태로 추출"
   ]
  },
  {
   "cell_type": "markdown",
   "metadata": {},
   "source": [
    "#### 정수 표본추출(이상균등분포: discrete uniform distibution)"
   ]
  },
  {
   "cell_type": "code",
   "execution_count": 10,
   "metadata": {},
   "outputs": [
    {
     "data": {
      "text/plain": [
       "4"
      ]
     },
     "execution_count": 10,
     "metadata": {},
     "output_type": "execute_result"
    }
   ],
   "source": [
    "#random.randint(low, high=None, size=None, dtype=int)\n",
    "np.random.randint(10) #0~9사이의 임의의 정수 1개 추출"
   ]
  },
  {
   "cell_type": "code",
   "execution_count": 11,
   "metadata": {},
   "outputs": [
    {
     "data": {
      "text/plain": [
       "2"
      ]
     },
     "execution_count": 11,
     "metadata": {},
     "output_type": "execute_result"
    }
   ],
   "source": [
    "#random.randint(low, high=None, size=None, dtype=int)\n",
    "np.random.randint(1, 11)  #1~10사이의 임의의 정수 1개 추출"
   ]
  },
  {
   "cell_type": "code",
   "execution_count": 12,
   "metadata": {},
   "outputs": [
    {
     "data": {
      "text/plain": [
       "array([1, 0, 1, 0, 0, 1, 0, 1, 1, 1])"
      ]
     },
     "execution_count": 12,
     "metadata": {},
     "output_type": "execute_result"
    }
   ],
   "source": [
    "np.random.randint(2, size=10) #0~1사이의 임의의 정수 10개 추출"
   ]
  },
  {
   "cell_type": "code",
   "execution_count": 13,
   "metadata": {},
   "outputs": [
    {
     "data": {
      "text/plain": [
       "array([10, 10,  4,  7,  8,  3,  1,  4,  6, 10])"
      ]
     },
     "execution_count": 13,
     "metadata": {},
     "output_type": "execute_result"
    }
   ],
   "source": [
    "np.random.randint(1, 11, size=10) #1~10사이의 임의의 정수 10개 추출"
   ]
  },
  {
   "cell_type": "code",
   "execution_count": 14,
   "metadata": {
    "scrolled": true
   },
   "outputs": [
    {
     "data": {
      "text/plain": [
       "array([[2, 4, 3, 4],\n",
       "       [4, 4, 3, 4]])"
      ]
     },
     "execution_count": 14,
     "metadata": {},
     "output_type": "execute_result"
    }
   ],
   "source": [
    "np.random.randint(5, size=(2, 4)) #0~4사이의 임의의 정수를 2행 4열 형태로 추출"
   ]
  },
  {
   "cell_type": "markdown",
   "metadata": {},
   "source": [
    "### C.(모집단)표본추출"
   ]
  },
  {
   "cell_type": "markdown",
   "metadata": {},
   "source": [
    "#### - 복원추출"
   ]
  },
  {
   "cell_type": "code",
   "execution_count": 61,
   "metadata": {},
   "outputs": [
    {
     "data": {
      "text/plain": [
       "array([0, 1])"
      ]
     },
     "execution_count": 61,
     "metadata": {},
     "output_type": "execute_result"
    }
   ],
   "source": [
    "# random.choice(a, size=None, replace=True, p=None)\n",
    "# np.random.choice(모집단, 표본크기)\n",
    "np.random.choice(5, 2)   # 모집단(0~4의 정수) 중에 1개 추출"
   ]
  },
  {
   "cell_type": "code",
   "execution_count": 16,
   "metadata": {},
   "outputs": [
    {
     "data": {
      "text/plain": [
       "array([5, 1, 5])"
      ]
     },
     "execution_count": 16,
     "metadata": {},
     "output_type": "execute_result"
    }
   ],
   "source": [
    "# random.choice(a, size=None, replace=True, p=None)\n",
    "# np.random.choice(모집단, 표본크기)\n",
    "np.random.choice([1,2,3,4,5], 3)   #[1,2,3,4,5]리스트 요소 중에 3개 추출"
   ]
  },
  {
   "cell_type": "markdown",
   "metadata": {},
   "source": [
    "#### - 비복원추출"
   ]
  },
  {
   "cell_type": "code",
   "execution_count": 17,
   "metadata": {
    "scrolled": true
   },
   "outputs": [
    {
     "data": {
      "text/plain": [
       "array([1, 5, 2])"
      ]
     },
     "execution_count": 17,
     "metadata": {},
     "output_type": "execute_result"
    }
   ],
   "source": [
    "np.random.choice([1,2,3,4,5], 3, replace=False) #한번 뽑은 값은 다시 뽑지 않기 때문에 중복되는 값이 없다."
   ]
  },
  {
   "cell_type": "markdown",
   "metadata": {},
   "source": [
    "----------------------------------------------------------"
   ]
  },
  {
   "cell_type": "markdown",
   "metadata": {},
   "source": [
    "## 1.모집단 분포와 표본분포"
   ]
  },
  {
   "cell_type": "markdown",
   "metadata": {},
   "source": [
    "[예제8-1] 경부고속도록 서울 요금소~ 부산 구서 나들목에 있는 34개의 나들목 사이의 거리 측정 결과"
   ]
  },
  {
   "cell_type": "code",
   "execution_count": 18,
   "metadata": {},
   "outputs": [
    {
     "data": {
      "text/plain": [
       "array([ 9.59,  4.62,  0.65,  7.75, 16.98, 11.78,  7.24, 10.15, 25.49,\n",
       "       11.44, 10.37,  9.33, 15.04, 12.16, 16.63, 12.06,  9.7 , 12.46,\n",
       "        8.05, 19.91,  5.58, 12.48,  4.35, 16.41, 22.53, 17.56, 18.4 ,\n",
       "       10.86, 27.43,  7.39, 14.57, 11.92,  2.  ])"
      ]
     },
     "execution_count": 18,
     "metadata": {},
     "output_type": "execute_result"
    }
   ],
   "source": [
    "import pandas as pd\n",
    "\n",
    "df = pd.read_csv(\"data/distance.csv\", header=None)\n",
    "N  = np.array(df[0].tolist())\n",
    "N"
   ]
  },
  {
   "cell_type": "code",
   "execution_count": 19,
   "metadata": {},
   "outputs": [],
   "source": [
    "D =[9.59, 4.62, 0.65, 7.75, 16.98, 11.78, 7.24, 10.15, 25.49, 11.44, 10.37,\n",
    "    9.33, 15.04, 12.16, 16.63, 12.06, 9.70, 12.46, 8.05, 19.91, 5.58, 12.48,\n",
    "    4.35, 16.41, 22.53, 17.56, 18.4, 10.86, 27.43, 7.39, 14.57, 11.92, 2.00]  \n",
    "# N = np.array(D)"
   ]
  },
  {
   "cell_type": "markdown",
   "metadata": {},
   "source": [
    "### 모수 (외워놓으면 시험볼때 개꿀)"
   ]
  },
  {
   "cell_type": "markdown",
   "metadata": {},
   "source": [
    "#### a.모평균"
   ]
  },
  {
   "cell_type": "code",
   "execution_count": 56,
   "metadata": {},
   "outputs": [
    {
     "data": {
      "text/plain": [
       "12.21"
      ]
     },
     "execution_count": 56,
     "metadata": {},
     "output_type": "execute_result"
    }
   ],
   "source": [
    "np.round(N.mean(),2) # N.mean은 배열 N의 평균, np.round로 소수점 맞추기"
   ]
  },
  {
   "cell_type": "code",
   "execution_count": 57,
   "metadata": {},
   "outputs": [
    {
     "data": {
      "text/plain": [
       "array([ 9.59,  4.62,  0.65,  7.75, 16.98, 11.78,  7.24, 10.15, 25.49,\n",
       "       11.44, 10.37,  9.33, 15.04, 12.16, 16.63, 12.06,  9.7 , 12.46,\n",
       "        8.05, 19.91,  5.58, 12.48,  4.35, 16.41, 22.53, 17.56, 18.4 ,\n",
       "       10.86, 27.43,  7.39, 14.57, 11.92,  2.  ])"
      ]
     },
     "execution_count": 57,
     "metadata": {},
     "output_type": "execute_result"
    }
   ],
   "source": [
    "N"
   ]
  },
  {
   "cell_type": "code",
   "execution_count": 21,
   "metadata": {},
   "outputs": [
    {
     "data": {
      "text/plain": [
       "12.208484848484849"
      ]
     },
     "execution_count": 21,
     "metadata": {},
     "output_type": "execute_result"
    }
   ],
   "source": [
    "N.mean()"
   ]
  },
  {
   "cell_type": "markdown",
   "metadata": {},
   "source": [
    "#### b.모분산"
   ]
  },
  {
   "cell_type": "code",
   "execution_count": 52,
   "metadata": {},
   "outputs": [
    {
     "data": {
      "text/plain": [
       "37.35"
      ]
     },
     "execution_count": 52,
     "metadata": {},
     "output_type": "execute_result"
    }
   ],
   "source": [
    "np.round(N.var(),2)"
   ]
  },
  {
   "cell_type": "code",
   "execution_count": 53,
   "metadata": {},
   "outputs": [
    {
     "data": {
      "text/plain": [
       "37.34943103764921"
      ]
     },
     "execution_count": 53,
     "metadata": {},
     "output_type": "execute_result"
    }
   ],
   "source": [
    "N.var()"
   ]
  },
  {
   "cell_type": "markdown",
   "metadata": {},
   "source": [
    "#### c.모표준편차"
   ]
  },
  {
   "cell_type": "code",
   "execution_count": 54,
   "metadata": {},
   "outputs": [
    {
     "data": {
      "text/plain": [
       "6.11"
      ]
     },
     "execution_count": 54,
     "metadata": {},
     "output_type": "execute_result"
    }
   ],
   "source": [
    "np.round(N.std(),2)"
   ]
  },
  {
   "cell_type": "code",
   "execution_count": 55,
   "metadata": {},
   "outputs": [
    {
     "data": {
      "text/plain": [
       "6.111418087289497"
      ]
     },
     "execution_count": 55,
     "metadata": {},
     "output_type": "execute_result"
    }
   ],
   "source": [
    "N.std()"
   ]
  },
  {
   "cell_type": "markdown",
   "metadata": {},
   "source": [
    "### 통계량"
   ]
  },
  {
   "cell_type": "markdown",
   "metadata": {},
   "source": [
    "#### a-1.표본평균"
   ]
  },
  {
   "cell_type": "code",
   "execution_count": 24,
   "metadata": {},
   "outputs": [],
   "source": [
    "samples = np.array([7.75, 9.70, 10.86])"
   ]
  },
  {
   "cell_type": "code",
   "execution_count": 25,
   "metadata": {},
   "outputs": [
    {
     "data": {
      "text/plain": [
       "9.44"
      ]
     },
     "execution_count": 25,
     "metadata": {},
     "output_type": "execute_result"
    }
   ],
   "source": [
    "X_ = samples.sum() / len(samples)\n",
    "np.round(X_, 2)"
   ]
  },
  {
   "cell_type": "markdown",
   "metadata": {},
   "source": [
    "#### b-1.표본분산"
   ]
  },
  {
   "cell_type": "code",
   "execution_count": 26,
   "metadata": {},
   "outputs": [
    {
     "data": {
      "text/plain": [
       "2.47"
      ]
     },
     "execution_count": 26,
     "metadata": {},
     "output_type": "execute_result"
    }
   ],
   "source": [
    "S2 = 1/(len(samples) -1) *  sum([(i - X_)**2 for i in samples ])\n",
    "np.round(S2, 2)"
   ]
  },
  {
   "cell_type": "markdown",
   "metadata": {},
   "source": [
    "#### c-1.표본표준편차"
   ]
  },
  {
   "cell_type": "code",
   "execution_count": 27,
   "metadata": {},
   "outputs": [
    {
     "data": {
      "text/plain": [
       "1.57"
      ]
     },
     "execution_count": 27,
     "metadata": {},
     "output_type": "execute_result"
    }
   ],
   "source": [
    "S = np.sqrt(S2)\n",
    "np.round(S, 2)"
   ]
  },
  {
   "cell_type": "markdown",
   "metadata": {},
   "source": [
    "## I Can Do 8-2"
   ]
  },
  {
   "cell_type": "code",
   "execution_count": 28,
   "metadata": {},
   "outputs": [
    {
     "data": {
      "text/plain": [
       "array([45, 54, 67])"
      ]
     },
     "execution_count": 28,
     "metadata": {},
     "output_type": "execute_result"
    }
   ],
   "source": [
    "import numpy as np\n",
    "import matplotlib.pyplot as plt\n",
    "\n",
    "sample_2 = np.array([45, 54, 67])\n",
    "sample_2"
   ]
  },
  {
   "cell_type": "code",
   "execution_count": 29,
   "metadata": {},
   "outputs": [
    {
     "data": {
      "text/plain": [
       "55.33"
      ]
     },
     "execution_count": 29,
     "metadata": {},
     "output_type": "execute_result"
    }
   ],
   "source": [
    "#(a) 표본평균\n",
    "\n",
    "E = np.round(sample_2.sum() / len(sample_2), 2)\n",
    "E"
   ]
  },
  {
   "cell_type": "code",
   "execution_count": 30,
   "metadata": {},
   "outputs": [
    {
     "data": {
      "text/plain": [
       "122.33"
      ]
     },
     "execution_count": 30,
     "metadata": {},
     "output_type": "execute_result"
    }
   ],
   "source": [
    "#(b) 표본분산\n",
    "\n",
    "V = round(1/(len(sample_2) - 1) * sum((i - E)**2 for i in sample_2), 2)\n",
    "V"
   ]
  },
  {
   "cell_type": "code",
   "execution_count": 31,
   "metadata": {},
   "outputs": [
    {
     "data": {
      "text/plain": [
       "11.06"
      ]
     },
     "execution_count": 31,
     "metadata": {},
     "output_type": "execute_result"
    }
   ],
   "source": [
    "#(c) 표본표준편차\n",
    "\n",
    "S = round(np.sqrt(V), 2)\n",
    "S"
   ]
  },
  {
   "cell_type": "markdown",
   "metadata": {},
   "source": [
    "### A.표본평균의 분포"
   ]
  },
  {
   "cell_type": "markdown",
   "metadata": {},
   "source": [
    "#### 경우의 수\n",
    "n=2인 표본평균의 경우의 수"
   ]
  },
  {
   "cell_type": "code",
   "execution_count": 102,
   "metadata": {},
   "outputs": [
    {
     "name": "stdout",
     "output_type": "stream",
     "text": [
      "**경우의 수 : 16개\n",
      "[(1, 1), (1, 2), (1, 3), (1, 4), (2, 1), (2, 2), (2, 3), (2, 4), (3, 1), (3, 2), (3, 3), (3, 4), (4, 1), (4, 2), (4, 3), (4, 4)]\n"
     ]
    }
   ],
   "source": [
    "import itertools\n",
    "\n",
    "n = 2\n",
    "\n",
    "result = list(itertools.product(([1,2,3,4]), repeat=n)) # 복원추출\n",
    "print(\"**경우의 수 : %s개\" % len(result))\n",
    "print(result)"
   ]
  },
  {
   "cell_type": "markdown",
   "metadata": {},
   "source": [
    "#### x_set: 확률변수 상태공간"
   ]
  },
  {
   "cell_type": "code",
   "execution_count": 103,
   "metadata": {},
   "outputs": [
    {
     "data": {
      "text/plain": [
       "array([1. , 2. , 3. , 2.5, 1.5, 3.5, 4. ])"
      ]
     },
     "execution_count": 103,
     "metadata": {},
     "output_type": "execute_result"
    }
   ],
   "source": [
    "x_set = [sum([j for j in i])/n for i in result] \n",
    "x_set = np.array(list(set(x_set)))\n",
    "x_set"
   ]
  },
  {
   "cell_type": "markdown",
   "metadata": {},
   "source": [
    "#### 확률질량함수: f(x)   // 복습 해보기"
   ]
  },
  {
   "cell_type": "code",
   "execution_count": 104,
   "metadata": {},
   "outputs": [],
   "source": [
    "def f(x):\n",
    "    cnt = 0\n",
    "    for i in result:\n",
    "        if sum([j for j in i])/n == x:\n",
    "            cnt += 1\n",
    "    return cnt / (len(result)) # 전체 분의 조건 만족한 횟수 = 확률질량함수"
   ]
  },
  {
   "cell_type": "markdown",
   "metadata": {},
   "source": [
    "#### 확률변수: X"
   ]
  },
  {
   "cell_type": "code",
   "execution_count": 105,
   "metadata": {},
   "outputs": [
    {
     "data": {
      "text/plain": [
       "[array([1. , 2. , 3. , 2.5, 1.5, 3.5, 4. ]), <function __main__.f(x)>]"
      ]
     },
     "execution_count": 105,
     "metadata": {},
     "output_type": "execute_result"
    }
   ],
   "source": [
    "X = [x_set, f]\n",
    "X"
   ]
  },
  {
   "cell_type": "markdown",
   "metadata": {},
   "source": [
    "#### 확률: P(prob)"
   ]
  },
  {
   "cell_type": "code",
   "execution_count": 106,
   "metadata": {},
   "outputs": [
    {
     "data": {
      "text/plain": [
       "[0.0625, 0.1875, 0.1875, 0.25, 0.125, 0.125, 0.0625]"
      ]
     },
     "execution_count": 106,
     "metadata": {},
     "output_type": "execute_result"
    }
   ],
   "source": [
    "prob = [ f(x_k) for x_k in x_set]\n",
    "prob"
   ]
  },
  {
   "cell_type": "code",
   "execution_count": 107,
   "metadata": {},
   "outputs": [
    {
     "data": {
      "text/plain": [
       "array([0.0625, 0.1875, 0.1875, 0.25  , 0.125 , 0.125 , 0.0625])"
      ]
     },
     "execution_count": 107,
     "metadata": {},
     "output_type": "execute_result"
    }
   ],
   "source": [
    "prob = np.array(prob)\n",
    "prob"
   ]
  },
  {
   "cell_type": "markdown",
   "metadata": {},
   "source": [
    "#### a.표본평균의 기대값"
   ]
  },
  {
   "cell_type": "code",
   "execution_count": 108,
   "metadata": {},
   "outputs": [
    {
     "data": {
      "text/plain": [
       "2.5"
      ]
     },
     "execution_count": 108,
     "metadata": {},
     "output_type": "execute_result"
    }
   ],
   "source": [
    "def E(X):\n",
    "    x_set, f = X\n",
    "    return np.sum([x_k * f(x_k) for x_k in x_set])\n",
    "\n",
    "E(X)"
   ]
  },
  {
   "cell_type": "markdown",
   "metadata": {},
   "source": [
    "#### b.표본평균의 분산"
   ]
  },
  {
   "cell_type": "code",
   "execution_count": 109,
   "metadata": {},
   "outputs": [
    {
     "data": {
      "text/plain": [
       "0.625"
      ]
     },
     "execution_count": 109,
     "metadata": {},
     "output_type": "execute_result"
    }
   ],
   "source": [
    "def V(X):\n",
    "    x_set, f = X\n",
    "    mean = E(X)\n",
    "    return np.sum([(x_k - mean)**2 * f(x_k) for x_k in x_set])\n",
    "    #return np.sum([(x_k)**2 * f(x_k) for x_k in x_set]) - (mean)**2\n",
    "\n",
    "V(X)"
   ]
  },
  {
   "cell_type": "code",
   "execution_count": 110,
   "metadata": {},
   "outputs": [],
   "source": [
    "def check_prob(X):\n",
    "    x_set, f = X\n",
    "    prob = np.array([ f(x_k) for x_k in x_set])  \n",
    "    \n",
    "    print(f'기대값 E(X): {E(X):.4}')\n",
    "    print(f'분산   V(X): {V(X):.4}')"
   ]
  },
  {
   "cell_type": "code",
   "execution_count": 111,
   "metadata": {},
   "outputs": [],
   "source": [
    "def plot_prob(X):\n",
    "    x_set, f = X\n",
    "    prob = np.array([ f(x_k) for x_k in x_set]) \n",
    "    \n",
    "    fig = plt.figure(figsize=(10,6))\n",
    "    ax  = fig.add_subplot(111) # (1,1,1)\n",
    "    \n",
    "    ax.bar(x_set, prob, label='prob')\n",
    "    ax.vlines(E(X), 0, 1, label='mean', colors='red') #기대값:평균\n",
    "    ax.set_xticks(np.append(x_set, E(X)))  #x축의 값 출력\n",
    "    ax.set_ylim(0, prob.max()*1.2)         #y축의 한계 지정\n",
    "    ax.legend()\n",
    "    \n",
    "    plt.show()    "
   ]
  },
  {
   "cell_type": "code",
   "execution_count": 112,
   "metadata": {},
   "outputs": [
    {
     "name": "stdout",
     "output_type": "stream",
     "text": [
      "기대값 E(X): 2.5\n",
      "분산   V(X): 0.625\n"
     ]
    }
   ],
   "source": [
    "check_prob(X)"
   ]
  },
  {
   "cell_type": "code",
   "execution_count": 113,
   "metadata": {
    "scrolled": false
   },
   "outputs": [
    {
     "data": {
      "image/png": "[encoded data removed]",
      "text/plain": [
       "<Figure size 720x432 with 1 Axes>"
      ]
     },
     "metadata": {
      "needs_background": "light"
     },
     "output_type": "display_data"
    }
   ],
   "source": [
    "plot_prob(X)"
   ]
  },
  {
   "cell_type": "markdown",
   "metadata": {},
   "source": [
    "## I Can Do 8-3"
   ]
  },
  {
   "cell_type": "code",
   "execution_count": 122,
   "metadata": {},
   "outputs": [
    {
     "name": "stdout",
     "output_type": "stream",
     "text": [
      "**경우의 수 : 9개\n",
      "[(-1, -1), (-1, 0), (-1, 1), (0, -1), (0, 0), (0, 1), (1, -1), (1, 0), (1, 1)]\n"
     ]
    }
   ],
   "source": [
    "import itertools\n",
    "\n",
    "n = 2\n",
    "\n",
    "result = list(itertools.product(([-1, 0, 1]), repeat=n)) # 복원추출\n",
    "print(\"**경우의 수 : %s개\" % len(result))\n",
    "print(result)"
   ]
  },
  {
   "cell_type": "code",
   "execution_count": 123,
   "metadata": {},
   "outputs": [
    {
     "data": {
      "text/plain": [
       "array([-0.5,  0. ,  1. ,  0.5, -1. ])"
      ]
     },
     "execution_count": 123,
     "metadata": {},
     "output_type": "execute_result"
    }
   ],
   "source": [
    "y_set = [sum([j for j in i])/n for i in result] \n",
    "y_set = np.array(list(set(y_set)))\n",
    "y_set"
   ]
  },
  {
   "cell_type": "code",
   "execution_count": 124,
   "metadata": {},
   "outputs": [
    {
     "data": {
      "text/plain": [
       "[array([-0.5,  0. ,  1. ,  0.5, -1. ]), <function __main__.f(x)>]"
      ]
     },
     "execution_count": 124,
     "metadata": {},
     "output_type": "execute_result"
    }
   ],
   "source": [
    "Y = [y_set, f]\n",
    "Y"
   ]
  },
  {
   "cell_type": "code",
   "execution_count": 125,
   "metadata": {},
   "outputs": [
    {
     "data": {
      "text/plain": [
       "array([0.22, 0.33, 0.11, 0.22, 0.11])"
      ]
     },
     "execution_count": 125,
     "metadata": {},
     "output_type": "execute_result"
    }
   ],
   "source": [
    "prob = np.array([f(y_k) for y_k in y_set])\n",
    "prob = np.round(prob, 2)\n",
    "prob"
   ]
  },
  {
   "cell_type": "code",
   "execution_count": 134,
   "metadata": {},
   "outputs": [
    {
     "data": {
      "text/plain": [
       "0.0"
      ]
     },
     "execution_count": 134,
     "metadata": {},
     "output_type": "execute_result"
    }
   ],
   "source": [
    "def E(Y):\n",
    "    y_set, f = Y\n",
    "    return np.sum([y_k * f(y_k) for y_k in y_set])\n",
    "\n",
    "E(Y)"
   ]
  },
  {
   "cell_type": "code",
   "execution_count": 127,
   "metadata": {},
   "outputs": [
    {
     "data": {
      "text/plain": [
       "0.33"
      ]
     },
     "execution_count": 127,
     "metadata": {},
     "output_type": "execute_result"
    }
   ],
   "source": [
    "def V(Y):\n",
    "    y_set, f = Y\n",
    "    mean = E\n",
    "    return np.sum([(y_k - mean)**2 * f(y_k) for y_k in y_set])\n",
    "    #return np.sum([(x_k)**2 * f(x_k) for x_k in x_set]) - (mean)**2\n",
    "\n",
    "V = np.round(V(Y), 2)\n",
    "V"
   ]
  },
  {
   "cell_type": "code",
   "execution_count": 132,
   "metadata": {},
   "outputs": [
    {
     "name": "stdout",
     "output_type": "stream",
     "text": [
      "기대값 E(Y): 0.0\n",
      "분산   V(Y): 0.33\n"
     ]
    }
   ],
   "source": [
    "def check_prob(Y):\n",
    "    y_set, f = Y\n",
    "    prob = np.array([ f(y_k) for y_k in y_set])  \n",
    "    \n",
    "    print(f'기대값 E(Y): {E:.4}')\n",
    "    print(f'분산   V(Y): {V:.4}')\n",
    "check_prob(Y)"
   ]
  },
  {
   "cell_type": "markdown",
   "metadata": {},
   "source": [
    "## 도수분포표로 평균, 분산 구하기"
   ]
  },
  {
   "cell_type": "code",
   "execution_count": 60,
   "metadata": {},
   "outputs": [
    {
     "name": "stdout",
     "output_type": "stream",
     "text": [
      "분산:  92.29\n"
     ]
    },
    {
     "data": {
      "text/html": [
       "<div>\n",
       "<style scoped>\n",
       "    .dataframe tbody tr th:only-of-type {\n",
       "        vertical-align: middle;\n",
       "    }\n",
       "\n",
       "    .dataframe tbody tr th {\n",
       "        vertical-align: top;\n",
       "    }\n",
       "\n",
       "    .dataframe thead th {\n",
       "        text-align: right;\n",
       "    }\n",
       "</style>\n",
       "<table border=\"1\" class=\"dataframe\">\n",
       "  <thead>\n",
       "    <tr style=\"text-align: right;\">\n",
       "      <th></th>\n",
       "      <th>도수</th>\n",
       "      <th>상대도수</th>\n",
       "      <th>누적도수</th>\n",
       "      <th>누적상대도수</th>\n",
       "      <th>계급값</th>\n",
       "      <th>편차</th>\n",
       "      <th>편차^2</th>\n",
       "      <th>편차^2*도수</th>\n",
       "    </tr>\n",
       "    <tr>\n",
       "      <th>계급간격</th>\n",
       "      <th></th>\n",
       "      <th></th>\n",
       "      <th></th>\n",
       "      <th></th>\n",
       "      <th></th>\n",
       "      <th></th>\n",
       "      <th></th>\n",
       "      <th></th>\n",
       "    </tr>\n",
       "  </thead>\n",
       "  <tbody>\n",
       "    <tr>\n",
       "      <th>11.5~21.5</th>\n",
       "      <td>6</td>\n",
       "      <td>0.12</td>\n",
       "      <td>6</td>\n",
       "      <td>0.12</td>\n",
       "      <td>16.5</td>\n",
       "      <td>-16.6</td>\n",
       "      <td>275.56</td>\n",
       "      <td>1653.36</td>\n",
       "    </tr>\n",
       "    <tr>\n",
       "      <th>21.5~31.5</th>\n",
       "      <td>15</td>\n",
       "      <td>0.30</td>\n",
       "      <td>21</td>\n",
       "      <td>0.42</td>\n",
       "      <td>26.5</td>\n",
       "      <td>-6.6</td>\n",
       "      <td>43.56</td>\n",
       "      <td>653.40</td>\n",
       "    </tr>\n",
       "    <tr>\n",
       "      <th>31.5~41.5</th>\n",
       "      <td>20</td>\n",
       "      <td>0.40</td>\n",
       "      <td>41</td>\n",
       "      <td>0.82</td>\n",
       "      <td>36.5</td>\n",
       "      <td>3.4</td>\n",
       "      <td>11.56</td>\n",
       "      <td>231.20</td>\n",
       "    </tr>\n",
       "    <tr>\n",
       "      <th>41.5~51.5</th>\n",
       "      <td>8</td>\n",
       "      <td>0.16</td>\n",
       "      <td>49</td>\n",
       "      <td>0.98</td>\n",
       "      <td>46.5</td>\n",
       "      <td>13.4</td>\n",
       "      <td>179.56</td>\n",
       "      <td>1436.48</td>\n",
       "    </tr>\n",
       "    <tr>\n",
       "      <th>51.5~61.5</th>\n",
       "      <td>1</td>\n",
       "      <td>0.02</td>\n",
       "      <td>50</td>\n",
       "      <td>1</td>\n",
       "      <td>56.5</td>\n",
       "      <td>23.4</td>\n",
       "      <td>547.56</td>\n",
       "      <td>547.56</td>\n",
       "    </tr>\n",
       "    <tr>\n",
       "      <th>합계</th>\n",
       "      <td>50</td>\n",
       "      <td>1.00</td>\n",
       "      <td></td>\n",
       "      <td></td>\n",
       "      <td></td>\n",
       "      <td></td>\n",
       "      <td></td>\n",
       "      <td>4522.00</td>\n",
       "    </tr>\n",
       "  </tbody>\n",
       "</table>\n",
       "</div>"
      ],
      "text/plain": [
       "           도수  상대도수 누적도수 누적상대도수   계급값    편차    편차^2  편차^2*도수\n",
       "계급간격                                                        \n",
       "11.5~21.5   6  0.12    6   0.12  16.5 -16.6  275.56  1653.36\n",
       "21.5~31.5  15  0.30   21   0.42  26.5  -6.6   43.56   653.40\n",
       "31.5~41.5  20  0.40   41   0.82  36.5   3.4   11.56   231.20\n",
       "41.5~51.5   8  0.16   49   0.98  46.5  13.4  179.56  1436.48\n",
       "51.5~61.5   1  0.02   50      1  56.5  23.4  547.56   547.56\n",
       "합계         50  1.00                                  4522.00"
      ]
     },
     "execution_count": 60,
     "metadata": {},
     "output_type": "execute_result"
    }
   ],
   "source": [
    "import math \n",
    "import numpy as np\n",
    "import pandas as pd\n",
    "\n",
    "data = [26,31,28,38,41,26,18,16,25,29,\n",
    "       39,38,38,40,43,38,39,41,41,40,\n",
    "       26,19,39,28,43,34,21,41,29,30,\n",
    "       12,22,45,34,29,26,29,58,42,16,\n",
    "       41,42,38,42,28,42,39,41,39,43]\n",
    "\n",
    "k = 5   #계급의 수\n",
    "start = min(data)-0.5   #계급간격 시작값\n",
    "step = math.ceil((max(data)-min(data))/k)  #계급의 간격\n",
    "bins = np.arange(min(data)-0.5, max(data), step=step)  #계급\n",
    "\n",
    "#계급구간\n",
    "idx = [ str(bins[i])+'~'+str(bins[i+1] \n",
    "            if i<(len(bins)-1) else np.max(bins)+step ) \n",
    "           for i in range(len(bins))]    #계급구간\n",
    "#도수 데이터\n",
    "bins = np.append(bins, np.array([np.max(bins) + step]))\n",
    "hist, bins = np.histogram(data, bins)\n",
    "val = hist\n",
    "\n",
    "# 도수분포표 만들기\n",
    "#,'상대도수','누적도수','누적상대도수','계급값']\n",
    "df = pd.DataFrame(val, index=idx, columns=['도수'])\n",
    "df.index.name = '계급간격'\n",
    "\n",
    "df['상대도수'] = [val[x]/sum(val) for x in range(k)]\n",
    "df['누적도수'] = [sum([val[i] for i in range(x+1)]) for x in range(k)]\n",
    "\n",
    "val2 = df['상대도수'].values\n",
    "\n",
    "df['누적상대도수'] = [sum([val2[i] for i in range(x+1)]) for x in range(k)]\n",
    "df['계급값'] = [ (bins[x]+bins[x+1])/2 for x in range(k)]\n",
    "\n",
    "A = df['계급값'].values\n",
    "B = (sum(A[x] * val[x] for x in range(k)) / len(data)) #평균\n",
    "C = sum((A[x] - B)**2*val[x] for x in range(k)) / 49 # 분산\n",
    "\n",
    "df['편차'] = [(A[x] - B) for x in range(k)]\n",
    "df['편차^2'] = [(A[x] - B)**2 for x in range(k)]\n",
    "df['편차^2*도수'] = [(A[x] - B)**2*val[x] for x in range(k)]\n",
    "val3 = df['편차^2*도수'].values\n",
    "\n",
    "\n",
    "#df.loc['합계'] = df.iloc[:,:2].sum(axis=0, skipna=True)\n",
    "df.loc['합계'] = [sum(val),sum(val2),'','','','','',sum(val3)]\n",
    "\n",
    "print(\"분산: \", np.round(C, 2))\n",
    "df"
   ]
  }
 ],
 "metadata": {
  "kernelspec": {
   "display_name": "Python 3",
   "language": "python",
   "name": "python3"
  },
  "language_info": {
   "codemirror_mode": {
    "name": "ipython",
    "version": 3
   },
   "file_extension": ".py",
   "mimetype": "text/x-python",
   "name": "python",
   "nbconvert_exporter": "python",
   "pygments_lexer": "ipython3",
   "version": "3.8.5"
  }
 },
 "nbformat": 4,
 "nbformat_minor": 4
}

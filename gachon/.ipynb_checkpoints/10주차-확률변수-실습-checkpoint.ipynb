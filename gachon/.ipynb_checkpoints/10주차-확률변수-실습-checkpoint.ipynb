{
 "cells": [
  {
   "cell_type": "code",
   "execution_count": 10,
   "metadata": {},
   "outputs": [
    {
     "data": {
      "text/plain": [
       "{0, 1, 2, 3, 4, 5}"
      ]
     },
     "execution_count": 10,
     "metadata": {},
     "output_type": "execute_result"
    }
   ],
   "source": [
    "x = list()\n",
    "\n",
    "for i in range(1, 7):\n",
    "    for j in range(1, 7):\n",
    "        x.append(abs(i-j))\n",
    "        \n",
    "Sx = set(x)\n",
    "Sx"
   ]
  },
  {
   "cell_type": "code",
   "execution_count": 11,
   "metadata": {},
   "outputs": [],
   "source": [
    "import numpy as np\n",
    "import matplotlib.pyplot as plt"
   ]
  },
  {
   "cell_type": "code",
   "execution_count": 37,
   "metadata": {},
   "outputs": [
    {
     "name": "stdout",
     "output_type": "stream",
     "text": [
      "[1, 3, 1, 1, 2, 1, 0, 0, 3, 2, 0, 0, 3, 3, 3, 2, 1, 3, 3, 1, 4, 3, 0, 0, 2, 1, 1, 3, 2, 4, 2, 0, 3, 1, 3, 3, 0, 3, 3, 3, 0, 1, 3, 5, 0, 0, 1, 1, 3, 3, 5, 1, 1, 0, 4, 1, 1, 2, 0, 2, 0, 3, 4, 5, 5, 2, 1, 2, 4, 2, 1, 0, 0, 4, 5, 0, 2, 4, 3, 1, 4, 2, 0, 2, 2, 2, 2, 3, 2, 4, 1, 3, 1, 1, 4, 1, 0, 2, 2, 2, 4, 3, 2, 0, 2, 3, 3, 3, 2, 1, 4, 2, 1, 4, 0, 4, 3, 1, 1, 3, 4, 1, 0, 1, 2, 1, 0, 1, 0, 2, 1, 5, 3, 3, 4, 1, 0, 1, 1, 1, 4, 1, 2, 4, 2, 2, 3, 4, 1, 2, 2, 2, 3, 2, 5, 3, 5, 0, 1, 3, 2, 1, 2, 1, 2, 1, 1, 1, 1, 3, 1, 4, 3, 4, 2, 0, 3, 3, 1, 1, 0, 2, 4, 1, 3, 3, 2, 3, 2, 3, 2, 2, 2, 1, 0, 4, 5, 4, 1, 1, 2, 2, 0, 2, 4, 2, 3, 2, 3, 1, 4, 1, 0, 0, 3, 2, 1, 3, 2, 2, 0, 3, 2, 1, 3, 1, 0, 2, 0, 4, 2, 4, 0, 0, 3, 3, 1, 3, 3, 0, 0, 1, 2, 2, 1, 1, 2, 3, 1, 2, 0, 1, 0, 3, 3, 4, 1, 3, 3, 2, 2, 0, 4, 0, 4, 5, 3, 3, 1, 2, 0, 2, 2, 2, 4, 3, 3, 4, 4, 2, 0, 0, 2, 2, 3, 2, 0, 4, 3, 4, 0, 3, 0, 3, 0, 1, 1, 0, 0, 1, 2, 2, 4, 3, 3, 1, 0, 5, 2, 0, 1, 2, 2, 1, 2, 3, 5, 4, 3, 2, 4, 0, 1, 1, 1, 0, 0, 0, 1, 2, 1, 4, 1, 0, 0, 3, 3, 0, 0, 1, 2, 1, 3, 2, 4, 4, 1, 2, 1, 1, 1, 3, 2, 2, 2, 1, 4, 2, 1, 3, 0, 4, 3, 3, 2, 1, 2, 3, 4, 2, 3, 5, 0, 2, 1, 0, 0, 3, 4, 3, 4, 1, 1, 1, 1, 3, 5, 1, 1, 5, 3, 1, 3, 1, 1, 1, 1, 1, 1, 4, 1, 2, 0, 2, 2, 2, 1, 4, 4, 1, 3, 4, 1, 2, 0, 3, 2, 1, 0, 3, 0, 0, 0, 2, 4, 1, 3, 1, 1, 3, 1, 5, 1, 4, 5, 0, 5, 0, 1, 2, 1, 0, 2, 2, 1, 3, 3, 0, 0, 0, 3, 1, 1, 1, 4, 1, 1, 0, 0, 1, 1, 1, 4, 1, 3, 4, 3, 1, 4, 5, 3, 2, 4, 1, 1, 4, 0, 0, 1, 1, 2, 1, 1, 3, 0, 3, 1, 1, 1, 3, 1, 0, 1, 0, 1, 1, 1, 3, 0, 1, 1, 3, 3, 4, 4, 0, 0, 1, 1, 0, 2, 1, 1, 1, 2, 4, 3, 2, 1, 2, 0, 3, 1, 2, 1, 2, 2, 3, 1, 1, 4, 3, 2, 2, 2, 3, 0, 1, 2, 1, 4, 1, 2, 5, 1, 4, 0, 0, 3, 1, 3, 1, 3, 0, 1, 1, 3, 4, 4, 1, 2, 0, 0, 1, 1, 4, 3, 0, 1, 0, 1, 3, 0, 1, 1, 0, 4, 0, 1, 2, 1, 1, 1, 2, 1, 1, 1, 3, 4, 5, 3, 1, 0, 3, 2, 2, 2, 0, 2, 3]\n"
     ]
    }
   ],
   "source": [
    "import random\n",
    "\n",
    "x = list()\n",
    "for p in range(600):\n",
    "    i = random.randint(1, 6)\n",
    "    j = random.randint(1, 6)\n",
    "    x.append([i, j, abs(i-j)])\n",
    "\n",
    "Sx = list()\n",
    "for i in x:\n",
    "    Sx.append(i[2])\n",
    "    \n",
    "print(Sx)\n"
   ]
  },
  {
   "cell_type": "code",
   "execution_count": 57,
   "metadata": {},
   "outputs": [
    {
     "data": {
      "text/plain": [
       "'%.2f'"
      ]
     },
     "execution_count": 57,
     "metadata": {},
     "output_type": "execute_result"
    }
   ],
   "source": [
    "%precision 2 # 소수점 3자리까지 계산"
   ]
  },
  {
   "cell_type": "code",
   "execution_count": 39,
   "metadata": {},
   "outputs": [
    {
     "name": "stdout",
     "output_type": "stream",
     "text": [
      "[0 1 2 3 4 5] [0.16666667 0.27777778 0.22222222 0.16666667 0.11111111 0.05555556]\n"
     ]
    }
   ],
   "source": [
    "x = np.arange(0, 6)\n",
    "y = np.array([1/6,5/18,2/9,1/6,1/9,1/18])\n",
    "print(x,y)"
   ]
  },
  {
   "cell_type": "markdown",
   "metadata": {},
   "source": [
    "## 확률변수"
   ]
  },
  {
   "cell_type": "markdown",
   "metadata": {},
   "source": [
    "- 상태공간"
   ]
  },
  {
   "cell_type": "code",
   "execution_count": 40,
   "metadata": {},
   "outputs": [
    {
     "data": {
      "text/plain": [
       "array([0, 1, 2, 3, 4, 5])"
      ]
     },
     "execution_count": 40,
     "metadata": {},
     "output_type": "execute_result"
    }
   ],
   "source": [
    "d1 = [1,2,3,4,5,6]\n",
    "d2 = [1,2,3,4,5,6]\n",
    "\n",
    "x = list()\n",
    "for i in d1:\n",
    "    for j in d2:\n",
    "        x.append(abs(i-j))\n",
    "x_set = np.array(list(set(x)))\n",
    "x_set"
   ]
  },
  {
   "cell_type": "markdown",
   "metadata": {},
   "source": [
    " - 확률질량함수"
   ]
  },
  {
   "cell_type": "code",
   "execution_count": 41,
   "metadata": {},
   "outputs": [],
   "source": [
    "def f(x):\n",
    "    cnt = 0\n",
    "    for i in d1:\n",
    "        for j in d2:\n",
    "            if (abs(i-j) == x):\n",
    "                cnt += 1\n",
    "    return cnt / (len(d1)*len(d2))"
   ]
  },
  {
   "cell_type": "code",
   "execution_count": 42,
   "metadata": {},
   "outputs": [
    {
     "data": {
      "text/plain": [
       "0.22"
      ]
     },
     "execution_count": 42,
     "metadata": {},
     "output_type": "execute_result"
    }
   ],
   "source": [
    "f(2)"
   ]
  },
  {
   "cell_type": "code",
   "execution_count": 43,
   "metadata": {},
   "outputs": [],
   "source": [
    "X = [x_set, f]"
   ]
  },
  {
   "cell_type": "markdown",
   "metadata": {},
   "source": [
    "- 확률변수에 대한 확률"
   ]
  },
  {
   "cell_type": "code",
   "execution_count": 44,
   "metadata": {},
   "outputs": [
    {
     "data": {
      "text/plain": [
       "[0.17, 0.28, 0.22, 0.17, 0.11, 0.06]"
      ]
     },
     "execution_count": 44,
     "metadata": {},
     "output_type": "execute_result"
    }
   ],
   "source": [
    "prob = [f(x) for x in x_set]\n",
    "prob"
   ]
  },
  {
   "cell_type": "code",
   "execution_count": 58,
   "metadata": {},
   "outputs": [
    {
     "data": {
      "text/plain": [
       "{0: 0.167, 1: 0.278, 2: 0.222, 3: 0.167, 4: 0.111, 5: 0.056}"
      ]
     },
     "execution_count": 58,
     "metadata": {},
     "output_type": "execute_result"
    }
   ],
   "source": [
    "dict(zip(x_set, np.round(prob,3)))"
   ]
  },
  {
   "cell_type": "code",
   "execution_count": 60,
   "metadata": {},
   "outputs": [
    {
     "data": {
      "text/plain": [
       "1.0"
      ]
     },
     "execution_count": 60,
     "metadata": {},
     "output_type": "execute_result"
    }
   ],
   "source": [
    "np.sum(prob)"
   ]
  },
  {
   "cell_type": "code",
   "execution_count": 62,
   "metadata": {},
   "outputs": [
    {
     "data": {
      "text/plain": [
       "1.00"
      ]
     },
     "execution_count": 62,
     "metadata": {},
     "output_type": "execute_result"
    }
   ],
   "source": [
    "import math\n",
    "math.fsum(prob)"
   ]
  },
  {
   "cell_type": "markdown",
   "metadata": {},
   "source": [
    "- 그래프로 나타내기"
   ]
  },
  {
   "cell_type": "code",
   "execution_count": 65,
   "metadata": {},
   "outputs": [
    {
     "data": {
      "image/png": "[encoded data removed]",
      "text/plain": [
       "<Figure size 432x288 with 1 Axes>"
      ]
     },
     "metadata": {
      "needs_background": "light"
     },
     "output_type": "display_data"
    }
   ],
   "source": [
    "plt.bar(x_set,prob)\n",
    "plt.show()"
   ]
  },
  {
   "cell_type": "markdown",
   "metadata": {},
   "source": [
    "- (누적)분포함수"
   ]
  },
  {
   "cell_type": "code",
   "execution_count": 68,
   "metadata": {},
   "outputs": [],
   "source": [
    "def F(x):\n",
    "    np.sum([f(x_2) for x_2 in x_set if x_2 <= x]) "
   ]
  },
  {
   "cell_type": "code",
   "execution_count": 75,
   "metadata": {},
   "outputs": [],
   "source": [
    "#def F(x):\n",
    "#    a = 0\n",
    "#    for x_2 in x_set:\n",
    "#        if x_2 <= x:\n",
    "#            a += x_2\n",
    "#    return a"
   ]
  },
  {
   "cell_type": "code",
   "execution_count": 76,
   "metadata": {},
   "outputs": [
    {
     "data": {
      "text/plain": [
       "1"
      ]
     },
     "execution_count": 76,
     "metadata": {},
     "output_type": "execute_result"
    }
   ],
   "source": [
    "F(1)"
   ]
  },
  {
   "cell_type": "markdown",
   "metadata": {},
   "source": [
    "## 연속확률변수"
   ]
  },
  {
   "cell_type": "markdown",
   "metadata": {},
   "source": [
    "## 예제: 20세 이상 남성 키 데이터 그래프로 표현하기"
   ]
  },
  {
   "cell_type": "markdown",
   "metadata": {},
   "source": [
    "- 데이터 출처: https://sizekorea.kr/ 신체치수데이터"
   ]
  },
  {
   "cell_type": "code",
   "execution_count": 77,
   "metadata": {},
   "outputs": [],
   "source": [
    "import pandas as pd"
   ]
  },
  {
   "cell_type": "code",
   "execution_count": 87,
   "metadata": {
    "scrolled": false
   },
   "outputs": [
    {
     "data": {
      "text/html": [
       "<div>\n",
       "<style scoped>\n",
       "    .dataframe tbody tr th:only-of-type {\n",
       "        vertical-align: middle;\n",
       "    }\n",
       "\n",
       "    .dataframe tbody tr th {\n",
       "        vertical-align: top;\n",
       "    }\n",
       "\n",
       "    .dataframe thead th {\n",
       "        text-align: right;\n",
       "    }\n",
       "</style>\n",
       "<table border=\"1\" class=\"dataframe\">\n",
       "  <thead>\n",
       "    <tr style=\"text-align: right;\">\n",
       "      <th></th>\n",
       "      <th>성별</th>\n",
       "      <th>나이</th>\n",
       "      <th>키</th>\n",
       "    </tr>\n",
       "  </thead>\n",
       "  <tbody>\n",
       "    <tr>\n",
       "      <th>0</th>\n",
       "      <td>남</td>\n",
       "      <td>25</td>\n",
       "      <td>1736.0</td>\n",
       "    </tr>\n",
       "    <tr>\n",
       "      <th>1</th>\n",
       "      <td>남</td>\n",
       "      <td>28</td>\n",
       "      <td>1833.0</td>\n",
       "    </tr>\n",
       "    <tr>\n",
       "      <th>2</th>\n",
       "      <td>남</td>\n",
       "      <td>19</td>\n",
       "      <td>1744.0</td>\n",
       "    </tr>\n",
       "    <tr>\n",
       "      <th>3</th>\n",
       "      <td>남</td>\n",
       "      <td>20</td>\n",
       "      <td>1751.0</td>\n",
       "    </tr>\n",
       "    <tr>\n",
       "      <th>4</th>\n",
       "      <td>남</td>\n",
       "      <td>22</td>\n",
       "      <td>1851.0</td>\n",
       "    </tr>\n",
       "    <tr>\n",
       "      <th>...</th>\n",
       "      <td>...</td>\n",
       "      <td>...</td>\n",
       "      <td>...</td>\n",
       "    </tr>\n",
       "    <tr>\n",
       "      <th>6415</th>\n",
       "      <td>여</td>\n",
       "      <td>20</td>\n",
       "      <td>1706.0</td>\n",
       "    </tr>\n",
       "    <tr>\n",
       "      <th>6416</th>\n",
       "      <td>여</td>\n",
       "      <td>20</td>\n",
       "      <td>1624.0</td>\n",
       "    </tr>\n",
       "    <tr>\n",
       "      <th>6417</th>\n",
       "      <td>여</td>\n",
       "      <td>44</td>\n",
       "      <td>1508.0</td>\n",
       "    </tr>\n",
       "    <tr>\n",
       "      <th>6418</th>\n",
       "      <td>여</td>\n",
       "      <td>20</td>\n",
       "      <td>1574.0</td>\n",
       "    </tr>\n",
       "    <tr>\n",
       "      <th>6419</th>\n",
       "      <td>여</td>\n",
       "      <td>37</td>\n",
       "      <td>1550.0</td>\n",
       "    </tr>\n",
       "  </tbody>\n",
       "</table>\n",
       "<p>6420 rows × 3 columns</p>\n",
       "</div>"
      ],
      "text/plain": [
       "     성별  나이       키\n",
       "0     남  25  1736.0\n",
       "1     남  28  1833.0\n",
       "2     남  19  1744.0\n",
       "3     남  20  1751.0\n",
       "4     남  22  1851.0\n",
       "...  ..  ..     ...\n",
       "6415  여  20  1706.0\n",
       "6416  여  20  1624.0\n",
       "6417  여  44  1508.0\n",
       "6418  여  20  1574.0\n",
       "6419  여  37  1550.0\n",
       "\n",
       "[6420 rows x 3 columns]"
      ]
     },
     "execution_count": 87,
     "metadata": {},
     "output_type": "execute_result"
    }
   ],
   "source": [
    "data = pd.read_csv('data/키_데이터.csv', encoding='UTF-8')\n",
    "data"
   ]
  },
  {
   "cell_type": "code",
   "execution_count": 90,
   "metadata": {},
   "outputs": [
    {
     "data": {
      "text/html": [
       "<div>\n",
       "<style scoped>\n",
       "    .dataframe tbody tr th:only-of-type {\n",
       "        vertical-align: middle;\n",
       "    }\n",
       "\n",
       "    .dataframe tbody tr th {\n",
       "        vertical-align: top;\n",
       "    }\n",
       "\n",
       "    .dataframe thead th {\n",
       "        text-align: right;\n",
       "    }\n",
       "</style>\n",
       "<table border=\"1\" class=\"dataframe\">\n",
       "  <thead>\n",
       "    <tr style=\"text-align: right;\">\n",
       "      <th></th>\n",
       "      <th>성별</th>\n",
       "      <th>나이</th>\n",
       "      <th>키</th>\n",
       "    </tr>\n",
       "  </thead>\n",
       "  <tbody>\n",
       "    <tr>\n",
       "      <th>0</th>\n",
       "      <td>남</td>\n",
       "      <td>25</td>\n",
       "      <td>173.0</td>\n",
       "    </tr>\n",
       "    <tr>\n",
       "      <th>1</th>\n",
       "      <td>남</td>\n",
       "      <td>28</td>\n",
       "      <td>183.0</td>\n",
       "    </tr>\n",
       "    <tr>\n",
       "      <th>3</th>\n",
       "      <td>남</td>\n",
       "      <td>20</td>\n",
       "      <td>175.0</td>\n",
       "    </tr>\n",
       "    <tr>\n",
       "      <th>4</th>\n",
       "      <td>남</td>\n",
       "      <td>22</td>\n",
       "      <td>185.0</td>\n",
       "    </tr>\n",
       "    <tr>\n",
       "      <th>5</th>\n",
       "      <td>남</td>\n",
       "      <td>23</td>\n",
       "      <td>178.0</td>\n",
       "    </tr>\n",
       "    <tr>\n",
       "      <th>...</th>\n",
       "      <td>...</td>\n",
       "      <td>...</td>\n",
       "      <td>...</td>\n",
       "    </tr>\n",
       "    <tr>\n",
       "      <th>4853</th>\n",
       "      <td>남</td>\n",
       "      <td>25</td>\n",
       "      <td>168.0</td>\n",
       "    </tr>\n",
       "    <tr>\n",
       "      <th>4856</th>\n",
       "      <td>남</td>\n",
       "      <td>29</td>\n",
       "      <td>174.0</td>\n",
       "    </tr>\n",
       "    <tr>\n",
       "      <th>4857</th>\n",
       "      <td>남</td>\n",
       "      <td>25</td>\n",
       "      <td>173.0</td>\n",
       "    </tr>\n",
       "    <tr>\n",
       "      <th>4867</th>\n",
       "      <td>남</td>\n",
       "      <td>24</td>\n",
       "      <td>168.0</td>\n",
       "    </tr>\n",
       "    <tr>\n",
       "      <th>4899</th>\n",
       "      <td>남</td>\n",
       "      <td>20</td>\n",
       "      <td>177.0</td>\n",
       "    </tr>\n",
       "  </tbody>\n",
       "</table>\n",
       "<p>869 rows × 3 columns</p>\n",
       "</div>"
      ],
      "text/plain": [
       "     성별  나이      키\n",
       "0     남  25  173.0\n",
       "1     남  28  183.0\n",
       "3     남  20  175.0\n",
       "4     남  22  185.0\n",
       "5     남  23  178.0\n",
       "...  ..  ..    ...\n",
       "4853  남  25  168.0\n",
       "4856  남  29  174.0\n",
       "4857  남  25  173.0\n",
       "4867  남  24  168.0\n",
       "4899  남  20  177.0\n",
       "\n",
       "[869 rows x 3 columns]"
      ]
     },
     "execution_count": 90,
     "metadata": {},
     "output_type": "execute_result"
    }
   ],
   "source": [
    "df = pd.DataFrame(data)\n",
    "df = df.query(\"성별=='남' and 나이 >= 20 and 나이 < 30\")\n",
    "df['키'] = df['키'] // 10\n",
    "df"
   ]
  },
  {
   "cell_type": "code",
   "execution_count": 118,
   "metadata": {},
   "outputs": [
    {
     "data": {
      "image/png": "[encoded data removed]",
      "text/plain": [
       "<Figure size 432x288 with 1 Axes>"
      ]
     },
     "metadata": {
      "needs_background": "light"
     },
     "output_type": "display_data"
    }
   ],
   "source": [
    "height = set(df['키'])\n",
    "bins = list(map(int, height))   \n",
    "bins = np.linspace(min(height), max(height), 11) # 히스토그램 구간 조절\n",
    "plt.hist(df['키'], bins)\n",
    "plt.show()"
   ]
  },
  {
   "cell_type": "code",
   "execution_count": 119,
   "metadata": {},
   "outputs": [
    {
     "data": {
      "text/plain": [
       "array([157. , 165.5, 174. , 182.5, 191. ])"
      ]
     },
     "execution_count": 119,
     "metadata": {},
     "output_type": "execute_result"
    }
   ],
   "source": [
    "bins = np.linspace(min(height), max(height), 5)\n",
    "bins"
   ]
  },
  {
   "cell_type": "code",
   "execution_count": null,
   "metadata": {},
   "outputs": [],
   "source": [
    "fig = plt.figure()\n",
    "ax1 = fig.add_subplot(2,1,1)"
   ]
  }
 ],
 "metadata": {
  "kernelspec": {
   "display_name": "Python 3",
   "language": "python",
   "name": "python3"
  },
  "language_info": {
   "codemirror_mode": {
    "name": "ipython",
    "version": 3
   },
   "file_extension": ".py",
   "mimetype": "text/x-python",
   "name": "python",
   "nbconvert_exporter": "python",
   "pygments_lexer": "ipython3",
   "version": "3.8.5"
  }
 },
 "nbformat": 4,
 "nbformat_minor": 4
}

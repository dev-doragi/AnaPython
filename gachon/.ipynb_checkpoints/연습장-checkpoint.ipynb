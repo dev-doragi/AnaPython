{
 "cells": [
  {
   "cell_type": "code",
   "execution_count": 1,
   "metadata": {},
   "outputs": [],
   "source": [
    "import numpy as np\n",
    "import matplotlib.pyplot as plt"
   ]
  },
  {
   "cell_type": "code",
   "execution_count": 6,
   "metadata": {},
   "outputs": [
    {
     "data": {
      "text/plain": [
       "1.76"
      ]
     },
     "execution_count": 6,
     "metadata": {},
     "output_type": "execute_result"
    }
   ],
   "source": [
    "data = np.array([1,2,3,4,4,4,5,6,7])\n",
    "std = round(data.std(),2)\n",
    "std"
   ]
  },
  {
   "cell_type": "code",
   "execution_count": 28,
   "metadata": {},
   "outputs": [
    {
     "name": "stdout",
     "output_type": "stream",
     "text": [
      "평균:  12.21\n",
      "분산:  37.35\n",
      "표준편차:  6.11\n"
     ]
    },
    {
     "data": {
      "text/plain": [
       "array([ 9.59,  4.62,  0.65,  7.75, 16.98, 11.78,  7.24, 10.15, 25.49,\n",
       "       11.44, 10.37,  9.33, 15.04, 12.16, 16.63, 12.06,  9.7 , 12.46,\n",
       "        8.05, 19.91,  5.58, 12.48,  4.35, 16.41, 22.53, 17.56, 18.4 ,\n",
       "       10.86, 27.43,  7.39, 14.57, 11.92,  2.  ])"
      ]
     },
     "execution_count": 28,
     "metadata": {},
     "output_type": "execute_result"
    }
   ],
   "source": [
    "import pandas as pd\n",
    "\n",
    "df = pd.read_csv(\"data/distance.csv\", header=None)\n",
    "N  = np.array(df[0].tolist())\n",
    "E = np.round(N.mean(),2)\n",
    "print(\"평균: \", E)\n",
    "V = np.round(N.var(),2)\n",
    "print(\"분산: \", V)\n",
    "a = np.round(N.std(),2)\n",
    "print(\"표준편차: \", a)\n",
    "N"
   ]
  },
  {
   "cell_type": "code",
   "execution_count": 17,
   "metadata": {},
   "outputs": [
    {
     "name": "stdout",
     "output_type": "stream",
     "text": [
      "분산:  92.29\n"
     ]
    },
    {
     "data": {
      "text/html": [
       "<div>\n",
       "<style scoped>\n",
       "    .dataframe tbody tr th:only-of-type {\n",
       "        vertical-align: middle;\n",
       "    }\n",
       "\n",
       "    .dataframe tbody tr th {\n",
       "        vertical-align: top;\n",
       "    }\n",
       "\n",
       "    .dataframe thead th {\n",
       "        text-align: right;\n",
       "    }\n",
       "</style>\n",
       "<table border=\"1\" class=\"dataframe\">\n",
       "  <thead>\n",
       "    <tr style=\"text-align: right;\">\n",
       "      <th></th>\n",
       "      <th>도수</th>\n",
       "      <th>상대도수</th>\n",
       "      <th>누적도수</th>\n",
       "      <th>누적상대도수</th>\n",
       "      <th>계급값</th>\n",
       "      <th>편차</th>\n",
       "      <th>편차^2</th>\n",
       "      <th>편차^2*도수</th>\n",
       "    </tr>\n",
       "    <tr>\n",
       "      <th>계급간격</th>\n",
       "      <th></th>\n",
       "      <th></th>\n",
       "      <th></th>\n",
       "      <th></th>\n",
       "      <th></th>\n",
       "      <th></th>\n",
       "      <th></th>\n",
       "      <th></th>\n",
       "    </tr>\n",
       "  </thead>\n",
       "  <tbody>\n",
       "    <tr>\n",
       "      <th>11.5~21.5</th>\n",
       "      <td>6</td>\n",
       "      <td>0.12</td>\n",
       "      <td>6</td>\n",
       "      <td>0.12</td>\n",
       "      <td>16.5</td>\n",
       "      <td>-16.6</td>\n",
       "      <td>275.56</td>\n",
       "      <td>1653.36</td>\n",
       "    </tr>\n",
       "    <tr>\n",
       "      <th>21.5~31.5</th>\n",
       "      <td>15</td>\n",
       "      <td>0.30</td>\n",
       "      <td>21</td>\n",
       "      <td>0.42</td>\n",
       "      <td>26.5</td>\n",
       "      <td>-6.6</td>\n",
       "      <td>43.56</td>\n",
       "      <td>653.40</td>\n",
       "    </tr>\n",
       "    <tr>\n",
       "      <th>31.5~41.5</th>\n",
       "      <td>20</td>\n",
       "      <td>0.40</td>\n",
       "      <td>41</td>\n",
       "      <td>0.82</td>\n",
       "      <td>36.5</td>\n",
       "      <td>3.4</td>\n",
       "      <td>11.56</td>\n",
       "      <td>231.20</td>\n",
       "    </tr>\n",
       "    <tr>\n",
       "      <th>41.5~51.5</th>\n",
       "      <td>8</td>\n",
       "      <td>0.16</td>\n",
       "      <td>49</td>\n",
       "      <td>0.98</td>\n",
       "      <td>46.5</td>\n",
       "      <td>13.4</td>\n",
       "      <td>179.56</td>\n",
       "      <td>1436.48</td>\n",
       "    </tr>\n",
       "    <tr>\n",
       "      <th>51.5~61.5</th>\n",
       "      <td>1</td>\n",
       "      <td>0.02</td>\n",
       "      <td>50</td>\n",
       "      <td>1</td>\n",
       "      <td>56.5</td>\n",
       "      <td>23.4</td>\n",
       "      <td>547.56</td>\n",
       "      <td>547.56</td>\n",
       "    </tr>\n",
       "    <tr>\n",
       "      <th>합계</th>\n",
       "      <td>50</td>\n",
       "      <td>1.00</td>\n",
       "      <td></td>\n",
       "      <td></td>\n",
       "      <td></td>\n",
       "      <td></td>\n",
       "      <td></td>\n",
       "      <td>4522.00</td>\n",
       "    </tr>\n",
       "  </tbody>\n",
       "</table>\n",
       "</div>"
      ],
      "text/plain": [
       "           도수  상대도수 누적도수 누적상대도수   계급값    편차    편차^2  편차^2*도수\n",
       "계급간격                                                        \n",
       "11.5~21.5   6  0.12    6   0.12  16.5 -16.6  275.56  1653.36\n",
       "21.5~31.5  15  0.30   21   0.42  26.5  -6.6   43.56   653.40\n",
       "31.5~41.5  20  0.40   41   0.82  36.5   3.4   11.56   231.20\n",
       "41.5~51.5   8  0.16   49   0.98  46.5  13.4  179.56  1436.48\n",
       "51.5~61.5   1  0.02   50      1  56.5  23.4  547.56   547.56\n",
       "합계         50  1.00                                  4522.00"
      ]
     },
     "execution_count": 17,
     "metadata": {},
     "output_type": "execute_result"
    }
   ],
   "source": [
    "import math \n",
    "import numpy as np\n",
    "import pandas as pd\n",
    "\n",
    "data = [26,31,28,38,41,26,18,16,25,29,\n",
    "       39,38,38,40,43,38,39,41,41,40,\n",
    "       26,19,39,28,43,34,21,41,29,30,\n",
    "       12,22,45,34,29,26,29,58,42,16,\n",
    "       41,42,38,42,28,42,39,41,39,43]\n",
    "\n",
    "k = 5   #계급의 수\n",
    "start = min(data)-0.5   #계급간격 시작값\n",
    "step = math.ceil((max(data)-min(data))/k)  #계급의 간격\n",
    "bins = np.arange(min(data)-0.5, max(data), step=step)  #계급\n",
    "\n",
    "#계급구간\n",
    "idx = [ str(bins[i])+'~'+str(bins[i+1] \n",
    "            if i<(len(bins)-1) else np.max(bins)+step ) \n",
    "           for i in range(len(bins))]    #계급구간\n",
    "#도수 데이터\n",
    "bins = np.append(bins, np.array([np.max(bins) + step]))\n",
    "hist, bins = np.histogram(data, bins)\n",
    "val = hist\n",
    "\n",
    "# 도수분포표 만들기\n",
    "#,'상대도수','누적도수','누적상대도수','계급값']\n",
    "df = pd.DataFrame(val, index=idx, columns=['도수'])\n",
    "df.index.name = '계급간격'\n",
    "\n",
    "df['상대도수'] = [val[x]/sum(val) for x in range(k)]\n",
    "df['누적도수'] = [sum([val[i] for i in range(x+1)]) for x in range(k)]\n",
    "\n",
    "val2 = df['상대도수'].values\n",
    "\n",
    "df['누적상대도수'] = [sum([val2[i] for i in range(x+1)]) for x in range(k)]\n",
    "df['계급값'] = [ (bins[x]+bins[x+1])/2 for x in range(k)]\n",
    "\n",
    "A = df['계급값'].values\n",
    "B = (sum(A[x] * val[x] for x in range(k)) / len(data)) #평균\n",
    "C = sum((A[x] - B)**2*val[x] for x in range(k)) / 49 # 분산\n",
    "\n",
    "df['편차'] = [(A[x] - B) for x in range(k)]\n",
    "df['편차^2'] = [(A[x] - B)**2 for x in range(k)]\n",
    "df['편차^2*도수'] = [(A[x] - B)**2*val[x] for x in range(k)]\n",
    "val3 = df['편차^2*도수'].values\n",
    "\n",
    "\n",
    "#df.loc['합계'] = df.iloc[:,:2].sum(axis=0, skipna=True)\n",
    "df.loc['합계'] = [sum(val),sum(val2),'','','','','',sum(val3)]\n",
    "\n",
    "print(\"분산: \", np.round(C, 2))\n",
    "df"
   ]
  },
  {
   "cell_type": "code",
   "execution_count": null,
   "metadata": {},
   "outputs": [],
   "source": []
  }
 ],
 "metadata": {
  "kernelspec": {
   "display_name": "Python 3",
   "language": "python",
   "name": "python3"
  },
  "language_info": {
   "codemirror_mode": {
    "name": "ipython",
    "version": 3
   },
   "file_extension": ".py",
   "mimetype": "text/x-python",
   "name": "python",
   "nbconvert_exporter": "python",
   "pygments_lexer": "ipython3",
   "version": "3.8.5"
  }
 },
 "nbformat": 4,
 "nbformat_minor": 4
}

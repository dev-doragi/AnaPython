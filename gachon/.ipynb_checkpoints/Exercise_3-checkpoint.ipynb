{
 "cells": [
  {
   "cell_type": "markdown",
   "metadata": {},
   "source": [
    "# 27"
   ]
  },
  {
   "cell_type": "markdown",
   "metadata": {},
   "source": [
    "#### (a) 연도별 출생아 수에 대한 막대그래프를 그려라."
   ]
  },
  {
   "cell_type": "code",
   "execution_count": 42,
   "metadata": {},
   "outputs": [
    {
     "data": {
      "text/html": [
       "<div>\n",
       "<style scoped>\n",
       "    .dataframe tbody tr th:only-of-type {\n",
       "        vertical-align: middle;\n",
       "    }\n",
       "\n",
       "    .dataframe tbody tr th {\n",
       "        vertical-align: top;\n",
       "    }\n",
       "\n",
       "    .dataframe thead th {\n",
       "        text-align: right;\n",
       "    }\n",
       "</style>\n",
       "<table border=\"1\" class=\"dataframe\">\n",
       "  <thead>\n",
       "    <tr style=\"text-align: right;\">\n",
       "      <th>연도</th>\n",
       "      <th>2004</th>\n",
       "      <th>2005</th>\n",
       "      <th>2006</th>\n",
       "      <th>2007</th>\n",
       "      <th>2008</th>\n",
       "      <th>2009</th>\n",
       "      <th>2010</th>\n",
       "      <th>2011</th>\n",
       "      <th>2012</th>\n",
       "    </tr>\n",
       "  </thead>\n",
       "  <tbody>\n",
       "    <tr>\n",
       "      <th>출생아수</th>\n",
       "      <td>472761.0</td>\n",
       "      <td>435031.0</td>\n",
       "      <td>448153.0</td>\n",
       "      <td>493189.0</td>\n",
       "      <td>465892.0</td>\n",
       "      <td>444849.0</td>\n",
       "      <td>470171.0</td>\n",
       "      <td>471265.0</td>\n",
       "      <td>484550.0</td>\n",
       "    </tr>\n",
       "    <tr>\n",
       "      <th>출생성비</th>\n",
       "      <td>108.2</td>\n",
       "      <td>107.8</td>\n",
       "      <td>107.5</td>\n",
       "      <td>106.2</td>\n",
       "      <td>106.4</td>\n",
       "      <td>106.4</td>\n",
       "      <td>106.9</td>\n",
       "      <td>105.7</td>\n",
       "      <td>105.7</td>\n",
       "    </tr>\n",
       "  </tbody>\n",
       "</table>\n",
       "</div>"
      ],
      "text/plain": [
       "연도        2004      2005      2006      2007      2008      2009      2010  \\\n",
       "출생아수  472761.0  435031.0  448153.0  493189.0  465892.0  444849.0  470171.0   \n",
       "출생성비     108.2     107.8     107.5     106.2     106.4     106.4     106.9   \n",
       "\n",
       "연도        2011      2012  \n",
       "출생아수  471265.0  484550.0  \n",
       "출생성비     105.7     105.7  "
      ]
     },
     "execution_count": 42,
     "metadata": {},
     "output_type": "execute_result"
    }
   ],
   "source": [
    "import pandas as pd\n",
    "import matplotlib.pyplot as plt\n",
    "import math as mt\n",
    "import matplotlib\n",
    "import matplotlib.pyplot as plt\n",
    "\n",
    "matplotlib.rcParams['font.family'] = 'Malgun Gothic'\n",
    "\n",
    "\n",
    "col = list(range(2004,2013))\n",
    "index = ['출생아수','출생성비']\n",
    "val = [[472761, 435031, 448153, 493189, 465892, 444849, 470171, 471265, 484550],\n",
    "       [108.2, 107.8, 107.5, 106.2, 106.4, 106.4, 106.9, 105.7, 105.7]] \n",
    "\n",
    "df = pd.DataFrame(val, columns=col, index=index)\n",
    "df.columns.name = '연도'\n",
    "df"
   ]
  },
  {
   "cell_type": "code",
   "execution_count": 43,
   "metadata": {
    "scrolled": false
   },
   "outputs": [
    {
     "data": {
      "image/png": "[encoded data removed]",
      "text/plain": [
       "<Figure size 432x288 with 1 Axes>"
      ]
     },
     "metadata": {
      "needs_background": "light"
     },
     "output_type": "display_data"
    }
   ],
   "source": [
    "years = col\n",
    "values = list(val[0])\n",
    "\n",
    "plt.bar(years, values)\n",
    "plt.show()"
   ]
  },
  {
   "cell_type": "markdown",
   "metadata": {},
   "source": [
    "#### (b) 이 자료를 이용하여 남자아이 수와 여자아이 수에 대한 꺾은선 그래프를 그려라."
   ]
  },
  {
   "cell_type": "code",
   "execution_count": 44,
   "metadata": {},
   "outputs": [
    {
     "name": "stdout",
     "output_type": "stream",
     "text": [
      "girls\n",
      "\n",
      "2004 | 227071\n",
      "2005 | 209351\n",
      "2006 | 215978\n",
      "2007 | 239180\n",
      "2008 | 225723\n",
      "2009 | 215528\n",
      "2010 | 227246\n",
      "2011 | 229104\n",
      "2012 | 235562\n",
      "\n",
      "boys\n",
      "\n",
      "2004 | 245690\n",
      "2005 | 225680\n",
      "2006 | 232175\n",
      "2007 | 254009\n",
      "2008 | 240169\n",
      "2009 | 229321\n",
      "2010 | 242925\n",
      "2011 | 242161\n",
      "2012 | 248988\n"
     ]
    }
   ],
   "source": [
    "girls = [0,0,0,0,0,0,0,0,0]\n",
    "boys = [0,0,0,0,0,0,0,0,0]\n",
    "\n",
    "for i in range(0,9):\n",
    "    girls[i] = mt.ceil(val[0][i] / (1 + val[1][i] / 100))\n",
    "    boys[i] = val[0][i] - girls[i]\n",
    "    \n",
    "print('girls\\n')\n",
    "\n",
    "for i in range(0,9):\n",
    "    print(2004 + i, '|', int(girls[i]))\n",
    "\n",
    "print('\\nboys\\n')\n",
    "\n",
    "for i in range(0,9):\n",
    "    print(2004 + i, '|', int(boys[i]))"
   ]
  },
  {
   "cell_type": "code",
   "execution_count": 45,
   "metadata": {},
   "outputs": [
    {
     "data": {
      "image/png": "[encoded data removed]",
      "text/plain": [
       "<Figure size 432x288 with 1 Axes>"
      ]
     },
     "metadata": {
      "needs_background": "light"
     },
     "output_type": "display_data"
    }
   ],
   "source": [
    "plt.plot(years, boys, 'o', linestyle = '-')\n",
    "plt.plot(years, girls, 'o', linestyle = '-')\n",
    "plt.legend(['남자','여자'])\n",
    "\n",
    "plt.show()"
   ]
  },
  {
   "cell_type": "markdown",
   "metadata": {},
   "source": [
    "# 28"
   ]
  },
  {
   "cell_type": "markdown",
   "metadata": {},
   "source": [
    "#### (a) 도수분포표를 완성하라."
   ]
  },
  {
   "cell_type": "code",
   "execution_count": 46,
   "metadata": {},
   "outputs": [
    {
     "data": {
      "text/html": [
       "<div>\n",
       "<style scoped>\n",
       "    .dataframe tbody tr th:only-of-type {\n",
       "        vertical-align: middle;\n",
       "    }\n",
       "\n",
       "    .dataframe tbody tr th {\n",
       "        vertical-align: top;\n",
       "    }\n",
       "\n",
       "    .dataframe thead th {\n",
       "        text-align: right;\n",
       "    }\n",
       "</style>\n",
       "<table border=\"1\" class=\"dataframe\">\n",
       "  <thead>\n",
       "    <tr style=\"text-align: right;\">\n",
       "      <th>계급간격</th>\n",
       "      <th>도수</th>\n",
       "      <th>상대도수</th>\n",
       "      <th>누적도수</th>\n",
       "      <th>누적상대도수</th>\n",
       "      <th>계급값</th>\n",
       "    </tr>\n",
       "  </thead>\n",
       "  <tbody>\n",
       "    <tr>\n",
       "      <th>0.5 ~ 4.5</th>\n",
       "      <td>25</td>\n",
       "      <td>0.05</td>\n",
       "      <td>25</td>\n",
       "      <td>0.05</td>\n",
       "      <td>2.5</td>\n",
       "    </tr>\n",
       "    <tr>\n",
       "      <th>4.5 ~ 8.5</th>\n",
       "      <td>55</td>\n",
       "      <td>0.11</td>\n",
       "      <td>55</td>\n",
       "      <td>0.11</td>\n",
       "      <td>6.5</td>\n",
       "    </tr>\n",
       "    <tr>\n",
       "      <th>8.5 ~ 12.5</th>\n",
       "      <td>60</td>\n",
       "      <td>0.12</td>\n",
       "      <td>60</td>\n",
       "      <td>0.12</td>\n",
       "      <td>10.5</td>\n",
       "    </tr>\n",
       "    <tr>\n",
       "      <th>12.5 ~ 16.5</th>\n",
       "      <td>90</td>\n",
       "      <td>0.18</td>\n",
       "      <td>90</td>\n",
       "      <td>0.18</td>\n",
       "      <td>14.5</td>\n",
       "    </tr>\n",
       "    <tr>\n",
       "      <th>16.5 ~ 20.5</th>\n",
       "      <td>115</td>\n",
       "      <td>0.23</td>\n",
       "      <td>115</td>\n",
       "      <td>0.23</td>\n",
       "      <td>18.5</td>\n",
       "    </tr>\n",
       "    <tr>\n",
       "      <th>20.5 ~ 24.5</th>\n",
       "      <td>85</td>\n",
       "      <td>0.17</td>\n",
       "      <td>85</td>\n",
       "      <td>0.17</td>\n",
       "      <td>22.5</td>\n",
       "    </tr>\n",
       "    <tr>\n",
       "      <th>24.5 ~ 28.5</th>\n",
       "      <td>50</td>\n",
       "      <td>0.10</td>\n",
       "      <td>50</td>\n",
       "      <td>0.10</td>\n",
       "      <td>26.5</td>\n",
       "    </tr>\n",
       "    <tr>\n",
       "      <th>28.5 ~ 32.5</th>\n",
       "      <td>20</td>\n",
       "      <td>0.04</td>\n",
       "      <td>20</td>\n",
       "      <td>0.04</td>\n",
       "      <td>30.5</td>\n",
       "    </tr>\n",
       "  </tbody>\n",
       "</table>\n",
       "</div>"
      ],
      "text/plain": [
       "계급간격          도수  상대도수  누적도수  누적상대도수   계급값\n",
       "0.5 ~ 4.5     25  0.05    25    0.05   2.5\n",
       "4.5 ~ 8.5     55  0.11    55    0.11   6.5\n",
       "8.5 ~ 12.5    60  0.12    60    0.12  10.5\n",
       "12.5 ~ 16.5   90  0.18    90    0.18  14.5\n",
       "16.5 ~ 20.5  115  0.23   115    0.23  18.5\n",
       "20.5 ~ 24.5   85  0.17    85    0.17  22.5\n",
       "24.5 ~ 28.5   50  0.10    50    0.10  26.5\n",
       "28.5 ~ 32.5   20  0.04    20    0.04  30.5"
      ]
     },
     "execution_count": 46,
     "metadata": {},
     "output_type": "execute_result"
    }
   ],
   "source": [
    "col = ['도수','상대도수','누적도수','누적상대도수','계급값']\n",
    "index = ['0.5 ~ 4.5','4.5 ~ 8.5','8.5 ~ 12.5','12.5 ~ 16.5','16.5 ~ 20.5','20.5 ~ 24.5','24.5 ~ 28.5', '28.5 ~ 32.5']\n",
    "val = [[25,0,0,0,2.5],[55,0,0,0,0],[60,0,0,0,0],[90,0,0,0,0],[115,0,0,0,0],[85,0,0,0,0],[50,0,0,0,0],[20,0,0,0,0]]\n",
    "freq = [0,0,0,0,0,0,0,0]\n",
    "cumul = [0,0,0,0,0,0,0,0]\n",
    "\n",
    "for i in range(0,8):\n",
    "        val[i][1] = val[i][0] / 500\n",
    "        val[i][2] += val[i][0]\n",
    "        val[i][3] += val[i][1]\n",
    "        freq[i] = val[i][0]\n",
    "        cumul[i] = val[i][3]\n",
    "\n",
    "        \n",
    "for i in range(1,8):\n",
    "    val[i][4] = val[i-1][4] + 4\n",
    "\n",
    "df = pd.DataFrame(val, columns=col, index=index)\n",
    "df.columns.name = '계급간격'\n",
    "df"
   ]
  },
  {
   "cell_type": "markdown",
   "metadata": {},
   "source": [
    "#### (b) 도수히스토그램과 누적상대도수히스토그램을 그려라."
   ]
  },
  {
   "cell_type": "code",
   "execution_count": 47,
   "metadata": {},
   "outputs": [
    {
     "data": {
      "image/png": "[encoded data removed]",
      "text/plain": [
       "<Figure size 432x288 with 1 Axes>"
      ]
     },
     "metadata": {
      "needs_background": "light"
     },
     "output_type": "display_data"
    }
   ],
   "source": [
    "plt.bar(index, freq, width = 0.5)\n",
    "plt.show()"
   ]
  },
  {
   "cell_type": "code",
   "execution_count": 48,
   "metadata": {},
   "outputs": [
    {
     "data": {
      "image/png": "[encoded data removed]",
      "text/plain": [
       "<Figure size 432x288 with 1 Axes>"
      ]
     },
     "metadata": {
      "needs_background": "light"
     },
     "output_type": "display_data"
    }
   ],
   "source": [
    "plt.bar(index, cumul, width = 0.5)\n",
    "plt.show()"
   ]
  },
  {
   "cell_type": "markdown",
   "metadata": {},
   "source": [
    "#### (c)누적상대도수다각형을 그려라."
   ]
  },
  {
   "cell_type": "code",
   "execution_count": 49,
   "metadata": {},
   "outputs": [
    {
     "data": {
      "image/png": "[encoded data removed]",
      "text/plain": [
       "<Figure size 432x288 with 1 Axes>"
      ]
     },
     "metadata": {
      "needs_background": "light"
     },
     "output_type": "display_data"
    }
   ],
   "source": [
    "plt.bar(index, cumul, width = 0.5)\n",
    "plt.plot(index, cumul, 'o', linestyle='-', color = 'y')\n",
    "plt.show()"
   ]
  },
  {
   "cell_type": "markdown",
   "metadata": {},
   "source": [
    "# 29"
   ]
  },
  {
   "cell_type": "markdown",
   "metadata": {},
   "source": [
    "#### (a) 남자와 여자의 기대수명에 대한 꺾은선 그래프를 그리고, 수명에 대해 간단히 분석하라."
   ]
  },
  {
   "cell_type": "code",
   "execution_count": 50,
   "metadata": {},
   "outputs": [
    {
     "data": {
      "text/html": [
       "<div>\n",
       "<style scoped>\n",
       "    .dataframe tbody tr th:only-of-type {\n",
       "        vertical-align: middle;\n",
       "    }\n",
       "\n",
       "    .dataframe tbody tr th {\n",
       "        vertical-align: top;\n",
       "    }\n",
       "\n",
       "    .dataframe thead th {\n",
       "        text-align: right;\n",
       "    }\n",
       "</style>\n",
       "<table border=\"1\" class=\"dataframe\">\n",
       "  <thead>\n",
       "    <tr style=\"text-align: right;\">\n",
       "      <th>연도</th>\n",
       "      <th>2003</th>\n",
       "      <th>2004</th>\n",
       "      <th>2005</th>\n",
       "      <th>2006</th>\n",
       "      <th>2007</th>\n",
       "      <th>2008</th>\n",
       "      <th>2009</th>\n",
       "      <th>2010</th>\n",
       "      <th>2011</th>\n",
       "      <th>2012</th>\n",
       "    </tr>\n",
       "  </thead>\n",
       "  <tbody>\n",
       "    <tr>\n",
       "      <th>기대수명</th>\n",
       "      <td>77.4</td>\n",
       "      <td>78.0</td>\n",
       "      <td>78.6</td>\n",
       "      <td>79.2</td>\n",
       "      <td>79.6</td>\n",
       "      <td>80.1</td>\n",
       "      <td>80.6</td>\n",
       "      <td>80.8</td>\n",
       "      <td>81.2</td>\n",
       "      <td>81.4</td>\n",
       "    </tr>\n",
       "    <tr>\n",
       "      <th>남자</th>\n",
       "      <td>73.9</td>\n",
       "      <td>74.5</td>\n",
       "      <td>75.1</td>\n",
       "      <td>75.7</td>\n",
       "      <td>76.1</td>\n",
       "      <td>76.5</td>\n",
       "      <td>77.0</td>\n",
       "      <td>77.2</td>\n",
       "      <td>77.7</td>\n",
       "      <td>78.0</td>\n",
       "    </tr>\n",
       "    <tr>\n",
       "      <th>여자</th>\n",
       "      <td>80.8</td>\n",
       "      <td>81.4</td>\n",
       "      <td>81.9</td>\n",
       "      <td>82.4</td>\n",
       "      <td>82.7</td>\n",
       "      <td>83.3</td>\n",
       "      <td>83.8</td>\n",
       "      <td>84.1</td>\n",
       "      <td>84.5</td>\n",
       "      <td>84.6</td>\n",
       "    </tr>\n",
       "  </tbody>\n",
       "</table>\n",
       "</div>"
      ],
      "text/plain": [
       "연도    2003  2004  2005  2006  2007  2008  2009  2010  2011  2012\n",
       "기대수명  77.4  78.0  78.6  79.2  79.6  80.1  80.6  80.8  81.2  81.4\n",
       "남자    73.9  74.5  75.1  75.7  76.1  76.5  77.0  77.2  77.7  78.0\n",
       "여자    80.8  81.4  81.9  82.4  82.7  83.3  83.8  84.1  84.5  84.6"
      ]
     },
     "execution_count": 50,
     "metadata": {},
     "output_type": "execute_result"
    }
   ],
   "source": [
    "data    = [[77.4,78.0,78.6,79.2,79.6,80.1,80.6,80.8,81.2,81.4],[73.9,74.5,75.1,75.7,76.1,76.5,77.0,77.2,77.7,78.0],\n",
    "           [80.8,81.4,81.9,82.4,82.7,83.3,83.8,84.1,84.5,84.6]]  \n",
    "columns = list(range(2003,2013,1))\n",
    "index   = ['기대수명','남자','여자']\n",
    "\n",
    "df = pd.DataFrame(data, columns=columns, index=index)\n",
    "df.columns.name = '연도'\n",
    "df"
   ]
  },
  {
   "cell_type": "code",
   "execution_count": 51,
   "metadata": {},
   "outputs": [
    {
     "data": {
      "image/png": "[encoded data removed]",
      "text/plain": [
       "<Figure size 432x288 with 1 Axes>"
      ]
     },
     "metadata": {
      "needs_background": "light"
     },
     "output_type": "display_data"
    }
   ],
   "source": [
    "plt.plot(columns, data[0], 'o', linestyle = '-')\n",
    "plt.plot(columns, data[1], 'o', linestyle = '-')\n",
    "plt.plot(columns, data[2], 'o', linestyle = '-')\n",
    "\n",
    "plt.legend(['기대수명','남자','여자'])\n",
    "\n",
    "plt.show()"
   ]
  },
  {
   "cell_type": "markdown",
   "metadata": {},
   "source": [
    "분석: 남자의 기대수명이 여자의 기대수명보다 평균적으로 약 4세 낮은 상태를 유지하고 있다. 남자와 여자 모두 기대수명이 오르고 있다."
   ]
  },
  {
   "cell_type": "markdown",
   "metadata": {},
   "source": [
    "#### (b) 꺾은선 그래프의 2003년도와 2012년도의 기대수명을 직선으로 연결하는 일차방정식을 구하고 2020년도의 남자와 여자의 기대수명을 예측하라."
   ]
  },
  {
   "cell_type": "markdown",
   "metadata": {},
   "source": [
    "#### 남자"
   ]
  },
  {
   "cell_type": "markdown",
   "metadata": {},
   "source": [
    "a(2003,73.9) b(2012,78.0)\n",
    "\n",
    "기울기 = (78.0 - 73.9) / (2012 - 2003) = 4.1/9, 약 0.46\n",
    "\n",
    "y = 0.46 * x + A, 점 a를 대입해 보면,\n",
    "\n",
    "73.9 = 0.46 * 2003 + A,\n",
    "\n",
    "A = 73.9 - 0.46 * 2003 = 약 -847.48\n",
    "\n",
    "따라서 2003년도와 2012년도의 기대수명을 직선으로 연결하는 일차방정식은\n",
    "\n",
    "y = 0.46 * x - 847.48 이다.\n",
    "\n",
    "2020년도 남자의 기대수명은\n",
    "\n",
    "0.46 * 2020 - 847.48 = 약 82세가 된다."
   ]
  },
  {
   "cell_type": "markdown",
   "metadata": {},
   "source": [
    "#### 여자"
   ]
  },
  {
   "cell_type": "markdown",
   "metadata": {},
   "source": [
    "a(2003,80.8) b(2012,84.6)\n",
    "\n",
    "기울기 = (84.6 - 80.8) / (2012 - 2003)= 3.8/9, 약 0.42\n",
    "\n",
    "y = 0.42 * x + A, 점 a를 대입해 보면,\n",
    "\n",
    "80.8 = 0.42 * 2003 + A,\n",
    "\n",
    "A = 80.8 - 0.42 * 2003 = 약 -760.46\n",
    "\n",
    "따라서 2003년도와 2012년도의 기대수명을 직선으로 연결하는 일차방정식은\n",
    "\n",
    "y = 0.42 * x - 760.46 이다.\n",
    "\n",
    "2020년도 남자의 기대수명은\n",
    "\n",
    "0.42 * 2020 - 760.46 = 약 88세가 된다."
   ]
  }
 ],
 "metadata": {
  "kernelspec": {
   "display_name": "Python 3",
   "language": "python",
   "name": "python3"
  },
  "language_info": {
   "codemirror_mode": {
    "name": "ipython",
    "version": 3
   },
   "file_extension": ".py",
   "mimetype": "text/x-python",
   "name": "python",
   "nbconvert_exporter": "python",
   "pygments_lexer": "ipython3",
   "version": "3.8.5"
  }
 },
 "nbformat": 4,
 "nbformat_minor": 4
}

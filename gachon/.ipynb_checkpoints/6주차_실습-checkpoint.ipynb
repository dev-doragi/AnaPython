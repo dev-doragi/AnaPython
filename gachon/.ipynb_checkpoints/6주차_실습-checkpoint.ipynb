{
 "cells": [
  {
   "cell_type": "code",
   "execution_count": 2,
   "metadata": {},
   "outputs": [],
   "source": [
    "data = [26,31,28,38,41,26,18,16,25,29,\n",
    "         39,38,38,40,45,38,39,41,41,40,\n",
    "         26,19,39,28,43,34,21,41,29,30,\n",
    "         12,22,45,34,29,26,29,58,42,16,\n",
    "         41,42,38,42,28,42,39,41,39,43]"
   ]
  },
  {
   "cell_type": "code",
   "execution_count": 3,
   "metadata": {},
   "outputs": [
    {
     "data": {
      "text/plain": [
       "33.9"
      ]
     },
     "execution_count": 3,
     "metadata": {},
     "output_type": "execute_result"
    }
   ],
   "source": [
    "avg = sum(data)/len(data)\n",
    "avg"
   ]
  },
  {
   "cell_type": "code",
   "execution_count": 4,
   "metadata": {},
   "outputs": [
    {
     "name": "stdout",
     "output_type": "stream",
     "text": [
      "평균 33.9\n"
     ]
    }
   ],
   "source": [
    "import numpy as np\n",
    "\n",
    "avg = np.mean(data)\n",
    "print('평균', avg)"
   ]
  },
  {
   "cell_type": "code",
   "execution_count": 5,
   "metadata": {},
   "outputs": [
    {
     "name": "stdout",
     "output_type": "stream",
     "text": [
      "평균 33.9\n"
     ]
    },
    {
     "name": "stderr",
     "output_type": "stream",
     "text": [
      "<ipython-input-5-0dab350e023f>:3: DeprecationWarning: scipy.mean is deprecated and will be removed in SciPy 2.0.0, use numpy.mean instead\n",
      "  avg = sp.mean(data)\n"
     ]
    }
   ],
   "source": [
    "import scipy as sp\n",
    "\n",
    "avg = sp.mean(data)\n",
    "print('평균', avg)"
   ]
  },
  {
   "cell_type": "markdown",
   "metadata": {},
   "source": [
    "### 조선조 왕의 수명"
   ]
  },
  {
   "cell_type": "code",
   "execution_count": 6,
   "metadata": {},
   "outputs": [
    {
     "data": {
      "text/plain": [
       "60.0"
      ]
     },
     "execution_count": 6,
     "metadata": {},
     "output_type": "execute_result"
    }
   ],
   "source": [
    "kings = {'태조':73, '정조':62, '태종':45}\n",
    "sum(kings.values())/len(kings)"
   ]
  },
  {
   "cell_type": "code",
   "execution_count": 7,
   "metadata": {},
   "outputs": [
    {
     "name": "stdout",
     "output_type": "stream",
     "text": [
      "중앙값 : 38.0\n"
     ]
    }
   ],
   "source": [
    "data = [26,31,28,38,41,26,18,16,25,29,\n",
    "         39,38,38,40,45,38,39,41,41,40,\n",
    "         26,19,39,28,43,34,21,41,29,30,\n",
    "         12,22,45,34,29,26,29,58,42,16,\n",
    "         41,42,38,42,28,42,39,41,39,43]\n",
    "\n",
    "median = np.median(data)\n",
    "print('중앙값 :', median)"
   ]
  },
  {
   "cell_type": "code",
   "execution_count": 10,
   "metadata": {},
   "outputs": [
    {
     "name": "stdout",
     "output_type": "stream",
     "text": [
      "조선조 왕의 평균나이: 45.42307692307692\n"
     ]
    }
   ],
   "source": [
    "kings = {'태조':73, '정조':62, '태종':45, '세종':53, '문종':38,\n",
    "         '단종':16, '세조':51, '예종':28, '성종':37, '연산군':30,\n",
    "         '중종':56, '인종':30, '명종':33, '선조':56, '광해군':66,\n",
    "         '인조':54, '효종':40, '현종':33, '숙종':59, '경종':36, \n",
    "         '영조':82, '정조':48, '순조':44, '헌종':22, '철종':32, \n",
    "         '고종':67, '순종':52}\n",
    "\n",
    "values = list(kings.values())\n",
    "keys = list(kings.keys())\n",
    "AVG = np.mean(values)\n",
    "print(f'조선조 왕의 평균나이: {AVG}')\n"
   ]
  },
  {
   "cell_type": "code",
   "execution_count": 21,
   "metadata": {},
   "outputs": [
    {
     "name": "stdout",
     "output_type": "stream",
     "text": [
      "16 82\n",
      "단명 왕: 단종\n",
      "장수 왕: 영조\n"
     ]
    }
   ],
   "source": [
    "## 리스트에서 찾기\n",
    "age_min, age_max = np.min(values), np.max(values)\n",
    "king_min, king_max = [], [] # 주의!!! king_min, king_max = []의 경우 동일한 메모리\n",
    "print(age_min, age_max)\n",
    "for key, value in kings.items():\n",
    "    if value == age_min: king_min.append(key)\n",
    "    if value == age_max: king_max.append(key)\n",
    "        \n",
    "print(f'단명 왕: {\",\".join(king_min)}') # \",\".join(king), 리스트를 문자열로\n",
    "print(f'장수 왕: {\",\".join(king_max)}')"
   ]
  },
  {
   "cell_type": "code",
   "execution_count": 22,
   "metadata": {},
   "outputs": [
    {
     "data": {
      "text/plain": [
       "[('단종', 16),\n",
       " ('헌종', 22),\n",
       " ('예종', 28),\n",
       " ('연산군', 30),\n",
       " ('인종', 30),\n",
       " ('철종', 32),\n",
       " ('명종', 33),\n",
       " ('현종', 33),\n",
       " ('경종', 36),\n",
       " ('성종', 37),\n",
       " ('문종', 38),\n",
       " ('효종', 40),\n",
       " ('순조', 44),\n",
       " ('태종', 45),\n",
       " ('정조', 48),\n",
       " ('세조', 51),\n",
       " ('순종', 52),\n",
       " ('세종', 53),\n",
       " ('인조', 54),\n",
       " ('중종', 56),\n",
       " ('선조', 56),\n",
       " ('숙종', 59),\n",
       " ('광해군', 66),\n",
       " ('고종', 67),\n",
       " ('태조', 73),\n",
       " ('영조', 82)]"
      ]
     },
     "execution_count": 22,
     "metadata": {},
     "output_type": "execute_result"
    }
   ],
   "source": [
    "import operator\n",
    "\n",
    "data =sorted(kings.items(), key = operator.itemgetter(1))\n",
    "data"
   ]
  },
  {
   "cell_type": "code",
   "execution_count": 74,
   "metadata": {},
   "outputs": [
    {
     "name": "stdout",
     "output_type": "stream",
     "text": [
      "[4] [7.] [3.]\n"
     ]
    }
   ],
   "source": [
    "S = [3, 4, 6, 7, 7, 9] # 표본\n",
    "# 사분위범위: [0, 25, 50, 75, 100]\n",
    "# Q1: 25, Q2:50, Q3:75, Q4:100\n",
    "# {‘linear’, ‘lower’, ‘higher’, ‘midpoint’, ‘nearest’}\n",
    "# Q1 = np.percentile(S, [25], interpolation='nearest')\n",
    "Q1 = np.percentile(S, [25], interpolation='nearest')\n",
    "Q3 = np.percentile(S, [75], interpolation='linear')\n",
    "IQR= Q3 - Q1\n",
    "print(Q1, Q3, IQR)"
   ]
  },
  {
   "cell_type": "code",
   "execution_count": 54,
   "metadata": {},
   "outputs": [
    {
     "name": "stdout",
     "output_type": "stream",
     "text": [
      "[3.0, 2.0, 0.0, 1.0, 1.0, 3.0]\n",
      "1.6666666666666667\n"
     ]
    }
   ],
   "source": [
    "data = [3,4,6,7,7,9]\n",
    "\n",
    "avg = np.mean(data)\n",
    "\n",
    "list = [abs(i - avg) for i in data]\n",
    "\n",
    "print(list)\n",
    "\n",
    "MD = np.mean(list)\n",
    "\n",
    "print(MD)"
   ]
  },
  {
   "cell_type": "code",
   "execution_count": 65,
   "metadata": {},
   "outputs": [
    {
     "name": "stdout",
     "output_type": "stream",
     "text": [
      "모분산: 4.0\n",
      "표본분산: 4.8\n"
     ]
    }
   ],
   "source": [
    "S = [3,4,6,7,7,9]\n",
    "\n",
    "var = np.var(S, ddof=0)\n",
    "print('모분산:',var)\n",
    "\n",
    "var = np.var(S, ddof=1)\n",
    "print('표본분산:',var)"
   ]
  },
  {
   "cell_type": "code",
   "execution_count": 71,
   "metadata": {},
   "outputs": [
    {
     "name": "stdout",
     "output_type": "stream",
     "text": [
      "모표준편차: 2.00\n",
      "표본표준편차: 2.19\n"
     ]
    }
   ],
   "source": [
    "S = [3, 4, 6, 7, 7, 9]\n",
    "#모표준편차\n",
    "std = np.std(S, ddof=0) # 1/N, np.std(S)\n",
    "print('모표준편차:', '%.2f'%std) # 소수점 2째 자리 출력\n",
    "#표본표준편차\n",
    "std = np.std(S, ddof=1) # 1/N-1\n",
    "print('표본표준편차:', '%.2f'%std)"
   ]
  },
  {
   "cell_type": "code",
   "execution_count": null,
   "metadata": {},
   "outputs": [],
   "source": []
  }
 ],
 "metadata": {
  "kernelspec": {
   "display_name": "Python 3",
   "language": "python",
   "name": "python3"
  },
  "language_info": {
   "codemirror_mode": {
    "name": "ipython",
    "version": 3
   },
   "file_extension": ".py",
   "mimetype": "text/x-python",
   "name": "python",
   "nbconvert_exporter": "python",
   "pygments_lexer": "ipython3",
   "version": "3.8.5"
  }
 },
 "nbformat": 4,
 "nbformat_minor": 4
}

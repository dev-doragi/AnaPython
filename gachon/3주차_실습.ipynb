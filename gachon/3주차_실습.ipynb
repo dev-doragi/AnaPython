{
 "cells": [
  {
   "cell_type": "code",
   "execution_count": 5,
   "metadata": {},
   "outputs": [
    {
     "name": "stdout",
     "output_type": "stream",
     "text": [
      "정수 입력: 8\n",
      "<class 'str'>\n",
      "8 + 88 + 888 = 984\n",
      "8 + 88 + 888 = 984\n"
     ]
    }
   ],
   "source": [
    "x = input('정수 입력: ')\n",
    "print(type(x))\n",
    "\n",
    "n = int(x)\n",
    "nn = int(x+x)\n",
    "nnn = int(x+x+x)\n",
    "\n",
    "print(f'{n} + {nn} + {nnn} = {n+nn+nnn}')\n",
    "print(\"%d + %d + %d = %d\" %(n,nn,nnn,n+nn+nnn))"
   ]
  },
  {
   "cell_type": "code",
   "execution_count": 19,
   "metadata": {},
   "outputs": [
    {
     "name": "stdout",
     "output_type": "stream",
     "text": [
      "문자열 입력: 수박이박수\n",
      "수\n",
      "박\n",
      "이\n",
      "박\n",
      "수\n"
     ]
    }
   ],
   "source": [
    "s = input(\"문자열 입력: \")\n",
    "ln = len(s)\n",
    "\n",
    "for n in range (ln, 0, -1):\n",
    "    print(s[n-1])"
   ]
  },
  {
   "cell_type": "code",
   "execution_count": null,
   "metadata": {},
   "outputs": [],
   "source": []
  },
  {
   "cell_type": "code",
   "execution_count": null,
   "metadata": {},
   "outputs": [],
   "source": []
  }
 ],
 "metadata": {
  "kernelspec": {
   "display_name": "Python 3",
   "language": "python",
   "name": "python3"
  },
  "language_info": {
   "codemirror_mode": {
    "name": "ipython",
    "version": 3
   },
   "file_extension": ".py",
   "mimetype": "text/x-python",
   "name": "python",
   "nbconvert_exporter": "python",
   "pygments_lexer": "ipython3",
   "version": "3.8.5"
  }
 },
 "nbformat": 4,
 "nbformat_minor": 4
}
